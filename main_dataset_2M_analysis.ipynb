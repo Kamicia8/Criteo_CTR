{
 "cells": [
  {
   "cell_type": "markdown",
   "id": "b5b29ea5-0a87-43bb-8022-e92273296086",
   "metadata": {},
   "source": [
    "**Przyjęte workflow:**\n",
    "- Wstępna eksploracja danych\n",
    "- Usunięcie kolumn i wierszy (nadmiarowych oraz z dużą liczbą NANów)\n",
    "- Imputacja wartości odstających\n",
    "- Imputacja brakujących wartości \n",
    "- Podział zbioru na zbiory treningowy oraz walidacyjny\n",
    "- Zbalansowanie danych z wykorzystaniem SMOTE\n",
    "- Standaryzacja i PCA\n",
    "- Trening modelu z regularyzacją\n",
    "- Ewaluacja wyników\n",
    "- Predykcja na zbiorze testowym"
   ]
  },
  {
   "cell_type": "markdown",
   "id": "845b9aec-981c-4a2a-b983-1f6b3a8735d1",
   "metadata": {},
   "source": [
    "**Przygotowanie środowiska**"
   ]
  },
  {
   "cell_type": "code",
   "execution_count": 2,
   "id": "03a83ca9-764d-41db-b33d-ba31b6ecaa9b",
   "metadata": {},
   "outputs": [
    {
     "name": "stdout",
     "output_type": "stream",
     "text": [
      "Collecting imblearn\n",
      "  Downloading imblearn-0.0-py2.py3-none-any.whl.metadata (355 bytes)\n",
      "Collecting imbalanced-learn (from imblearn)\n",
      "  Downloading imbalanced_learn-0.13.0-py3-none-any.whl.metadata (8.8 kB)\n",
      "Requirement already satisfied: numpy<3,>=1.24.3 in /opt/conda/lib/python3.11/site-packages (from imbalanced-learn->imblearn) (1.24.4)\n",
      "Requirement already satisfied: scipy<2,>=1.10.1 in /opt/conda/lib/python3.11/site-packages (from imbalanced-learn->imblearn) (1.11.3)\n",
      "Collecting scikit-learn<2,>=1.3.2 (from imbalanced-learn->imblearn)\n",
      "  Downloading scikit_learn-1.7.0-cp311-cp311-manylinux_2_17_x86_64.manylinux2014_x86_64.whl.metadata (17 kB)\n",
      "Collecting sklearn-compat<1,>=0.1 (from imbalanced-learn->imblearn)\n",
      "  Downloading sklearn_compat-0.1.3-py3-none-any.whl.metadata (18 kB)\n",
      "Requirement already satisfied: joblib<2,>=1.1.1 in /opt/conda/lib/python3.11/site-packages (from imbalanced-learn->imblearn) (1.3.2)\n",
      "Requirement already satisfied: threadpoolctl<4,>=2.0.0 in /opt/conda/lib/python3.11/site-packages (from imbalanced-learn->imblearn) (3.2.0)\n",
      "Collecting scikit-learn<2,>=1.3.2 (from imbalanced-learn->imblearn)\n",
      "  Downloading scikit_learn-1.6.1-cp311-cp311-manylinux_2_17_x86_64.manylinux2014_x86_64.whl.metadata (18 kB)\n",
      "Downloading imblearn-0.0-py2.py3-none-any.whl (1.9 kB)\n",
      "Downloading imbalanced_learn-0.13.0-py3-none-any.whl (238 kB)\n",
      "\u001b[2K   \u001b[90m━━━━━━━━━━━━━━━━━━━━━━━━━━━━━━━━━━━━━━━━\u001b[0m \u001b[32m238.4/238.4 kB\u001b[0m \u001b[31m3.7 MB/s\u001b[0m eta \u001b[36m0:00:00\u001b[0m \u001b[36m0:00:01\u001b[0m\n",
      "\u001b[?25hDownloading sklearn_compat-0.1.3-py3-none-any.whl (18 kB)\n",
      "Downloading scikit_learn-1.6.1-cp311-cp311-manylinux_2_17_x86_64.manylinux2014_x86_64.whl (13.5 MB)\n",
      "\u001b[2K   \u001b[90m━━━━━━━━━━━━━━━━━━━━━━━━━━━━━━━━━━━━━━━━\u001b[0m \u001b[32m13.5/13.5 MB\u001b[0m \u001b[31m41.0 MB/s\u001b[0m eta \u001b[36m0:00:00\u001b[0m00:01\u001b[0m00:01\u001b[0m\n",
      "\u001b[?25hInstalling collected packages: scikit-learn, sklearn-compat, imbalanced-learn, imblearn\n",
      "  Attempting uninstall: scikit-learn\n",
      "    Found existing installation: scikit-learn 1.3.1\n",
      "    Uninstalling scikit-learn-1.3.1:\n",
      "      Successfully uninstalled scikit-learn-1.3.1\n",
      "Successfully installed imbalanced-learn-0.13.0 imblearn-0.0 scikit-learn-1.6.1 sklearn-compat-0.1.3\n",
      "Note: you may need to restart the kernel to use updated packages.\n"
     ]
    }
   ],
   "source": [
    "pip install imblearn"
   ]
  },
  {
   "cell_type": "code",
   "execution_count": 74,
   "id": "b91dcc38-19e1-4234-bbe7-6ce861661ea0",
   "metadata": {},
   "outputs": [],
   "source": [
    "# importing libraries\n",
    "from pyspark.sql import SparkSession\n",
    "from pyspark.sql import functions as F\n",
    "import matplotlib.pyplot as plt\n",
    "import seaborn as sns\n",
    "import pandas as pd\n",
    "import numpy as np\n",
    "from pyspark.sql.functions import col, conv, when, trim\n",
    "from pyspark.sql.types import IntegerType, LongType\n",
    "from IPython.display import display\n",
    "from pyspark.ml.feature import Imputer\n",
    "from pyspark.ml.feature import VectorAssembler, StandardScaler, PCA\n",
    "from pyspark.ml.classification import LogisticRegression\n",
    "from pyspark.ml.evaluation import MulticlassClassificationEvaluator, BinaryClassificationEvaluator \n",
    "from pyspark.ml import Pipeline\n",
    "from imblearn.over_sampling import SMOTE\n",
    "from sklearn.model_selection import train_test_split\n",
    "from sklearn.metrics import classification_report"
   ]
  },
  {
   "cell_type": "code",
   "execution_count": 88,
   "id": "054140de-eba0-4bc2-ab32-d47b0b8578f5",
   "metadata": {},
   "outputs": [],
   "source": [
    "spark.stop()"
   ]
  },
  {
   "cell_type": "code",
   "execution_count": 24,
   "id": "8a02521a-3f0e-4df1-8b4e-219a3e80b78d",
   "metadata": {},
   "outputs": [
    {
     "data": {
      "text/html": [
       "\n",
       "            <div>\n",
       "                <p><b>SparkSession - in-memory</b></p>\n",
       "                \n",
       "        <div>\n",
       "            <p><b>SparkContext</b></p>\n",
       "\n",
       "            <p><a href=\"http://4eb5d20eb5d7:4040\">Spark UI</a></p>\n",
       "\n",
       "            <dl>\n",
       "              <dt>Version</dt>\n",
       "                <dd><code>v3.5.0</code></dd>\n",
       "              <dt>Master</dt>\n",
       "                <dd><code>local[*]</code></dd>\n",
       "              <dt>AppName</dt>\n",
       "                <dd><code>pyspark-shell</code></dd>\n",
       "            </dl>\n",
       "        </div>\n",
       "        \n",
       "            </div>\n",
       "        "
      ],
      "text/plain": [
       "<pyspark.sql.session.SparkSession at 0x72d26f6bbf50>"
      ]
     },
     "execution_count": 24,
     "metadata": {},
     "output_type": "execute_result"
    }
   ],
   "source": [
    "# building spark session\n",
    "spark = SparkSession.builder \\\n",
    "    .master(\"local[*]\") \\\n",
    "    .config(\"spark.driver.memory\", \"30g\") \\\n",
    "    .config(\"spark.driver.maxResultSize\", \"0\") \\\n",
    "    .config(\"spark.local.dir\", \"/tmp/spark-temp\") \\\n",
    "    .config(\"spark.memory.fraction\", \"0.8\") \\\n",
    "    .config(\"spark.memory.storageFraction\", \"0.3\") \\\n",
    "    .config(\"spark.sql.shuffle.partitions\", \"400\") \\\n",
    "    .getOrCreate()\n",
    "spark"
   ]
  },
  {
   "cell_type": "markdown",
   "id": "d4b499b9-79e3-4237-9603-21d8935b43fe",
   "metadata": {},
   "source": [
    "**Wczytanie danych**"
   ]
  },
  {
   "cell_type": "code",
   "execution_count": 9,
   "id": "399566f4-cb2f-4bc3-a50a-31c46de85fd2",
   "metadata": {},
   "outputs": [
    {
     "name": "stdout",
     "output_type": "stream",
     "text": [
      "root\n",
      " |-- Label: integer (nullable = true)\n",
      " |-- I1: integer (nullable = true)\n",
      " |-- I2: integer (nullable = true)\n",
      " |-- I3: integer (nullable = true)\n",
      " |-- I4: integer (nullable = true)\n",
      " |-- I5: integer (nullable = true)\n",
      " |-- I6: integer (nullable = true)\n",
      " |-- I7: integer (nullable = true)\n",
      " |-- I8: integer (nullable = true)\n",
      " |-- I9: integer (nullable = true)\n",
      " |-- I10: integer (nullable = true)\n",
      " |-- I11: integer (nullable = true)\n",
      " |-- I12: integer (nullable = true)\n",
      " |-- I13: integer (nullable = true)\n",
      " |-- C1: string (nullable = true)\n",
      " |-- C2: string (nullable = true)\n",
      " |-- C3: string (nullable = true)\n",
      " |-- C4: string (nullable = true)\n",
      " |-- C5: string (nullable = true)\n",
      " |-- C6: string (nullable = true)\n",
      " |-- C7: string (nullable = true)\n",
      " |-- C8: string (nullable = true)\n",
      " |-- C9: string (nullable = true)\n",
      " |-- C10: string (nullable = true)\n",
      " |-- C11: string (nullable = true)\n",
      " |-- C12: string (nullable = true)\n",
      " |-- C13: string (nullable = true)\n",
      " |-- C14: string (nullable = true)\n",
      " |-- C15: string (nullable = true)\n",
      " |-- C16: string (nullable = true)\n",
      " |-- C17: string (nullable = true)\n",
      " |-- C18: string (nullable = true)\n",
      " |-- C19: string (nullable = true)\n",
      " |-- C20: string (nullable = true)\n",
      " |-- C21: string (nullable = true)\n",
      " |-- C22: string (nullable = true)\n",
      " |-- C23: string (nullable = true)\n",
      " |-- C24: string (nullable = true)\n",
      " |-- C25: string (nullable = true)\n",
      " |-- C26: string (nullable = true)\n",
      "\n"
     ]
    }
   ],
   "source": [
    "# columns = [\"Label\", \"I1\", \"I2\", \"I3\", \"I4\", \"I5\", \"I6\", \"I7\", \"I8\", \"I9\", \n",
    "#            \"I10\", \"I11\", \"I12\", \"I13\", \"C1\", \"C2\", \"C3\", \"C4\", \"C5\", \"C6\", \n",
    "#            \"C7\", \"C8\", \"C9\", \"C10\", \"C11\", \"C12\", \"C13\", \"C14\", \"C15\", \"C16\", \n",
    "#            \"C17\", \"C18\", \"C19\", \"C20\", \"C21\", \"C22\", \"C23\", \"C24\", \"C25\", \"C26\"]\n",
    "\n",
    "# df = (\n",
    "#     spark.read\n",
    "#     .option(\"sep\", \"\\t\") \n",
    "#     .option(\"inferSchema\", \"true\")  \n",
    "#     .csv(\"../Dane/criteo-dataset/dac/train.txt\") \n",
    "#     # \"D:\\coding\\Kamila\\Dane\\criteo-dataset\\dac\\train.txt\"\n",
    "#     #work/Dane/criteo-dataset/dac/train.txt\n",
    "# )\n",
    "\n",
    "# df = df.toDF(*columns)\n",
    "\n",
    "# df.printSchema()"
   ]
  },
  {
   "cell_type": "code",
   "execution_count": 10,
   "id": "75c74fbf-d678-48aa-aa30-49e137dd8c96",
   "metadata": {},
   "outputs": [],
   "source": [
    "# df.write.mode(\"overwrite\").parquet(\"output_parquet\")"
   ]
  },
  {
   "cell_type": "code",
   "execution_count": 25,
   "id": "40df57d4-0a29-48dc-ba25-95b4422884ee",
   "metadata": {},
   "outputs": [
    {
     "data": {
      "text/html": [
       "<div>\n",
       "<style scoped>\n",
       "    .dataframe tbody tr th:only-of-type {\n",
       "        vertical-align: middle;\n",
       "    }\n",
       "\n",
       "    .dataframe tbody tr th {\n",
       "        vertical-align: top;\n",
       "    }\n",
       "\n",
       "    .dataframe thead th {\n",
       "        text-align: right;\n",
       "    }\n",
       "</style>\n",
       "<table border=\"1\" class=\"dataframe\">\n",
       "  <thead>\n",
       "    <tr style=\"text-align: right;\">\n",
       "      <th></th>\n",
       "      <th>Label</th>\n",
       "      <th>I1</th>\n",
       "      <th>I2</th>\n",
       "      <th>I3</th>\n",
       "      <th>I4</th>\n",
       "      <th>I5</th>\n",
       "      <th>I6</th>\n",
       "      <th>I7</th>\n",
       "      <th>I8</th>\n",
       "      <th>I9</th>\n",
       "      <th>...</th>\n",
       "      <th>C17</th>\n",
       "      <th>C18</th>\n",
       "      <th>C19</th>\n",
       "      <th>C20</th>\n",
       "      <th>C21</th>\n",
       "      <th>C22</th>\n",
       "      <th>C23</th>\n",
       "      <th>C24</th>\n",
       "      <th>C25</th>\n",
       "      <th>C26</th>\n",
       "    </tr>\n",
       "  </thead>\n",
       "  <tbody>\n",
       "    <tr>\n",
       "      <th>0</th>\n",
       "      <td>0</td>\n",
       "      <td>NaN</td>\n",
       "      <td>46</td>\n",
       "      <td>8.0</td>\n",
       "      <td>2.0</td>\n",
       "      <td>150472.0</td>\n",
       "      <td>NaN</td>\n",
       "      <td>0.0</td>\n",
       "      <td>2.0</td>\n",
       "      <td>2.0</td>\n",
       "      <td>...</td>\n",
       "      <td>1e88c74f</td>\n",
       "      <td>582152eb</td>\n",
       "      <td>21ddcdc9</td>\n",
       "      <td>5840adea</td>\n",
       "      <td>None</td>\n",
       "      <td>c9d4222a</td>\n",
       "      <td>32c7478e</td>\n",
       "      <td>None</td>\n",
       "      <td>001f3601</td>\n",
       "      <td>56be3401</td>\n",
       "    </tr>\n",
       "    <tr>\n",
       "      <th>1</th>\n",
       "      <td>0</td>\n",
       "      <td>7.0</td>\n",
       "      <td>1</td>\n",
       "      <td>36.0</td>\n",
       "      <td>28.0</td>\n",
       "      <td>181.0</td>\n",
       "      <td>37.0</td>\n",
       "      <td>16.0</td>\n",
       "      <td>29.0</td>\n",
       "      <td>34.0</td>\n",
       "      <td>...</td>\n",
       "      <td>e5ba7672</td>\n",
       "      <td>9880032b</td>\n",
       "      <td>21ddcdc9</td>\n",
       "      <td>5840adea</td>\n",
       "      <td>53b6d8fb</td>\n",
       "      <td>None</td>\n",
       "      <td>55dd3565</td>\n",
       "      <td>17de96b7</td>\n",
       "      <td>ea9a246c</td>\n",
       "      <td>dda91ee8</td>\n",
       "    </tr>\n",
       "    <tr>\n",
       "      <th>2</th>\n",
       "      <td>0</td>\n",
       "      <td>NaN</td>\n",
       "      <td>3</td>\n",
       "      <td>31.0</td>\n",
       "      <td>30.0</td>\n",
       "      <td>8735.0</td>\n",
       "      <td>94.0</td>\n",
       "      <td>6.0</td>\n",
       "      <td>39.0</td>\n",
       "      <td>86.0</td>\n",
       "      <td>...</td>\n",
       "      <td>e5ba7672</td>\n",
       "      <td>be645006</td>\n",
       "      <td>21ddcdc9</td>\n",
       "      <td>5840adea</td>\n",
       "      <td>2754aaf1</td>\n",
       "      <td>ad3062eb</td>\n",
       "      <td>55dd3565</td>\n",
       "      <td>3b183c5c</td>\n",
       "      <td>001f3601</td>\n",
       "      <td>7257f019</td>\n",
       "    </tr>\n",
       "    <tr>\n",
       "      <th>3</th>\n",
       "      <td>0</td>\n",
       "      <td>0.0</td>\n",
       "      <td>2</td>\n",
       "      <td>NaN</td>\n",
       "      <td>2.0</td>\n",
       "      <td>29414.0</td>\n",
       "      <td>1016.0</td>\n",
       "      <td>4.0</td>\n",
       "      <td>2.0</td>\n",
       "      <td>106.0</td>\n",
       "      <td>...</td>\n",
       "      <td>3486227d</td>\n",
       "      <td>e161d23a</td>\n",
       "      <td>None</td>\n",
       "      <td>None</td>\n",
       "      <td>None</td>\n",
       "      <td>None</td>\n",
       "      <td>32c7478e</td>\n",
       "      <td>None</td>\n",
       "      <td>None</td>\n",
       "      <td>None</td>\n",
       "    </tr>\n",
       "    <tr>\n",
       "      <th>4</th>\n",
       "      <td>0</td>\n",
       "      <td>NaN</td>\n",
       "      <td>13</td>\n",
       "      <td>49.0</td>\n",
       "      <td>95.0</td>\n",
       "      <td>27.0</td>\n",
       "      <td>95.0</td>\n",
       "      <td>5.0</td>\n",
       "      <td>49.0</td>\n",
       "      <td>95.0</td>\n",
       "      <td>...</td>\n",
       "      <td>e5ba7672</td>\n",
       "      <td>5b5794f1</td>\n",
       "      <td>None</td>\n",
       "      <td>None</td>\n",
       "      <td>None</td>\n",
       "      <td>None</td>\n",
       "      <td>32c7478e</td>\n",
       "      <td>None</td>\n",
       "      <td>None</td>\n",
       "      <td>None</td>\n",
       "    </tr>\n",
       "  </tbody>\n",
       "</table>\n",
       "<p>5 rows × 40 columns</p>\n",
       "</div>"
      ],
      "text/plain": [
       "   Label   I1  I2    I3    I4        I5      I6    I7    I8     I9  ...  \\\n",
       "0      0  NaN  46   8.0   2.0  150472.0     NaN   0.0   2.0    2.0  ...   \n",
       "1      0  7.0   1  36.0  28.0     181.0    37.0  16.0  29.0   34.0  ...   \n",
       "2      0  NaN   3  31.0  30.0    8735.0    94.0   6.0  39.0   86.0  ...   \n",
       "3      0  0.0   2   NaN   2.0   29414.0  1016.0   4.0   2.0  106.0  ...   \n",
       "4      0  NaN  13  49.0  95.0      27.0    95.0   5.0  49.0   95.0  ...   \n",
       "\n",
       "        C17       C18       C19       C20       C21       C22       C23  \\\n",
       "0  1e88c74f  582152eb  21ddcdc9  5840adea      None  c9d4222a  32c7478e   \n",
       "1  e5ba7672  9880032b  21ddcdc9  5840adea  53b6d8fb      None  55dd3565   \n",
       "2  e5ba7672  be645006  21ddcdc9  5840adea  2754aaf1  ad3062eb  55dd3565   \n",
       "3  3486227d  e161d23a      None      None      None      None  32c7478e   \n",
       "4  e5ba7672  5b5794f1      None      None      None      None  32c7478e   \n",
       "\n",
       "        C24       C25       C26  \n",
       "0      None  001f3601  56be3401  \n",
       "1  17de96b7  ea9a246c  dda91ee8  \n",
       "2  3b183c5c  001f3601  7257f019  \n",
       "3      None      None      None  \n",
       "4      None      None      None  \n",
       "\n",
       "[5 rows x 40 columns]"
      ]
     },
     "execution_count": 25,
     "metadata": {},
     "output_type": "execute_result"
    }
   ],
   "source": [
    "# conversion to parquet format with given limit\n",
    "\n",
    "# limit = 2000000\n",
    "data = spark.read.parquet(\"output_parquet\")\n",
    "# data=data.limit(limit) #sample musi być\n",
    "data = data.sample(fraction=0.05)\n",
    "data = data.repartition(64) # podział na partycje żeby przyspieszyć\n",
    "dataPd = data.toPandas() \n",
    "\n",
    "# display the first few rows of the data\n",
    "dataPd.head()"
   ]
  },
  {
   "cell_type": "code",
   "execution_count": 26,
   "id": "344ef105-6eaa-4f30-bc64-18707aff3fd6",
   "metadata": {},
   "outputs": [
    {
     "name": "stdout",
     "output_type": "stream",
     "text": [
      "Number of rows:\n",
      "2289077\n",
      "\n",
      "Column Names:\n",
      "['Label', 'I1', 'I2', 'I3', 'I4', 'I5', 'I6', 'I7', 'I8', 'I9', 'I10', 'I11', 'I12', 'I13', 'C1', 'C2', 'C3', 'C4', 'C5', 'C6', 'C7', 'C8', 'C9', 'C10', 'C11', 'C12', 'C13', 'C14', 'C15', 'C16', 'C17', 'C18', 'C19', 'C20', 'C21', 'C22', 'C23', 'C24', 'C25', 'C26']\n"
     ]
    }
   ],
   "source": [
    "print(\"Number of rows:\")\n",
    "print(data.count())\n",
    "\n",
    "print(\"\\nColumn Names:\")\n",
    "print(data.columns)"
   ]
  },
  {
   "cell_type": "markdown",
   "id": "19c7ff8a-a5df-4db0-bfbc-6a874c4081d8",
   "metadata": {},
   "source": [
    "**Wstępna eksploracja danych**"
   ]
  },
  {
   "cell_type": "code",
   "execution_count": 27,
   "id": "8077c7e3-8623-49cc-be9d-7ac2c4a07a5b",
   "metadata": {},
   "outputs": [
    {
     "name": "stdout",
     "output_type": "stream",
     "text": [
      "Column 'Label' has 0.00% NULL values.\n",
      "Column 'I1' has 45.41% NULL values.\n",
      "Column 'I2' has 0.00% NULL values.\n",
      "Column 'I3' has 21.39% NULL values.\n",
      "Column 'I4' has 21.66% NULL values.\n",
      "Column 'I5' has 2.58% NULL values.\n",
      "Column 'I6' has 22.38% NULL values.\n",
      "Column 'I7' has 4.31% NULL values.\n",
      "Column 'I8' has 0.05% NULL values.\n",
      "Column 'I9' has 4.31% NULL values.\n",
      "Column 'I10' has 45.41% NULL values.\n",
      "Column 'I11' has 4.31% NULL values.\n",
      "Column 'I12' has 76.47% NULL values.\n",
      "Column 'I13' has 21.66% NULL values.\n",
      "Column 'C1' has 0.00% NULL values.\n",
      "Column 'C2' has 0.00% NULL values.\n",
      "Column 'C3' has 3.40% NULL values.\n",
      "Column 'C4' has 3.40% NULL values.\n",
      "Column 'C5' has 0.00% NULL values.\n",
      "Column 'C6' has 12.06% NULL values.\n",
      "Column 'C7' has 0.00% NULL values.\n",
      "Column 'C8' has 0.00% NULL values.\n",
      "Column 'C9' has 0.00% NULL values.\n",
      "Column 'C10' has 0.00% NULL values.\n",
      "Column 'C11' has 0.00% NULL values.\n",
      "Column 'C12' has 3.40% NULL values.\n",
      "Column 'C13' has 0.00% NULL values.\n",
      "Column 'C14' has 0.00% NULL values.\n",
      "Column 'C15' has 0.00% NULL values.\n",
      "Column 'C16' has 3.40% NULL values.\n",
      "Column 'C17' has 0.00% NULL values.\n",
      "Column 'C18' has 0.00% NULL values.\n",
      "Column 'C19' has 43.97% NULL values.\n",
      "Column 'C20' has 43.97% NULL values.\n",
      "Column 'C21' has 3.40% NULL values.\n",
      "Column 'C22' has 76.20% NULL values.\n",
      "Column 'C23' has 0.00% NULL values.\n",
      "Column 'C24' has 3.40% NULL values.\n",
      "Column 'C25' has 43.97% NULL values.\n",
      "Column 'C26' has 43.97% NULL values.\n"
     ]
    }
   ],
   "source": [
    "# missing values\n",
    "\n",
    "number_of_rows = data.count()\n",
    "\n",
    "for column in data.columns:\n",
    "    count_null = data.filter(col(column).isNull()).count()\n",
    "    percentage_null = (count_null / number_of_rows) * 100\n",
    "    print(f\"Column '{column}' has {percentage_null:.2f}% NULL values.\")"
   ]
  },
  {
   "cell_type": "code",
   "execution_count": 28,
   "id": "2678f7ef-eb3c-435e-b23c-fb9568717b44",
   "metadata": {},
   "outputs": [
    {
     "data": {
      "text/html": [
       "<style type=\"text/css\">\n",
       "#T_6cc03_row0_col0, #T_6cc03_row0_col1, #T_6cc03_row0_col2, #T_6cc03_row0_col3, #T_6cc03_row0_col4, #T_6cc03_row0_col5, #T_6cc03_row0_col6, #T_6cc03_row0_col7, #T_6cc03_row0_col8, #T_6cc03_row0_col9, #T_6cc03_row0_col10, #T_6cc03_row0_col11, #T_6cc03_row0_col12, #T_6cc03_row0_col13, #T_6cc03_row0_col14, #T_6cc03_row0_col15, #T_6cc03_row0_col16, #T_6cc03_row0_col17 {\n",
       "  background-color: lightgreen;\n",
       "  background-color: salmon;\n",
       "  text-align: center;\n",
       "}\n",
       "</style>\n",
       "<table id=\"T_6cc03\">\n",
       "  <thead>\n",
       "    <tr>\n",
       "      <th class=\"blank level0\" >&nbsp;</th>\n",
       "      <th id=\"T_6cc03_level0_col0\" class=\"col_heading level0 col0\" >Label_min</th>\n",
       "      <th id=\"T_6cc03_level0_col1\" class=\"col_heading level0 col1\" >Label_max</th>\n",
       "      <th id=\"T_6cc03_level0_col2\" class=\"col_heading level0 col2\" >Label_avg</th>\n",
       "      <th id=\"T_6cc03_level0_col3\" class=\"col_heading level0 col3\" >Label_std</th>\n",
       "      <th id=\"T_6cc03_level0_col4\" class=\"col_heading level0 col4\" >I1_min</th>\n",
       "      <th id=\"T_6cc03_level0_col5\" class=\"col_heading level0 col5\" >I1_max</th>\n",
       "      <th id=\"T_6cc03_level0_col6\" class=\"col_heading level0 col6\" >I1_avg</th>\n",
       "      <th id=\"T_6cc03_level0_col7\" class=\"col_heading level0 col7\" >I1_std</th>\n",
       "      <th id=\"T_6cc03_level0_col8\" class=\"col_heading level0 col8\" >I2_min</th>\n",
       "      <th id=\"T_6cc03_level0_col9\" class=\"col_heading level0 col9\" >I2_max</th>\n",
       "      <th id=\"T_6cc03_level0_col10\" class=\"col_heading level0 col10\" >I2_avg</th>\n",
       "      <th id=\"T_6cc03_level0_col11\" class=\"col_heading level0 col11\" >I2_std</th>\n",
       "      <th id=\"T_6cc03_level0_col12\" class=\"col_heading level0 col12\" >I3_min</th>\n",
       "      <th id=\"T_6cc03_level0_col13\" class=\"col_heading level0 col13\" >I3_max</th>\n",
       "      <th id=\"T_6cc03_level0_col14\" class=\"col_heading level0 col14\" >I3_avg</th>\n",
       "      <th id=\"T_6cc03_level0_col15\" class=\"col_heading level0 col15\" >I3_std</th>\n",
       "      <th id=\"T_6cc03_level0_col16\" class=\"col_heading level0 col16\" >I4_min</th>\n",
       "      <th id=\"T_6cc03_level0_col17\" class=\"col_heading level0 col17\" >I4_max</th>\n",
       "    </tr>\n",
       "  </thead>\n",
       "  <tbody>\n",
       "    <tr>\n",
       "      <th id=\"T_6cc03_level0_row0\" class=\"row_heading level0 row0\" >0</th>\n",
       "      <td id=\"T_6cc03_row0_col0\" class=\"data row0 col0\" >0</td>\n",
       "      <td id=\"T_6cc03_row0_col1\" class=\"data row0 col1\" >1</td>\n",
       "      <td id=\"T_6cc03_row0_col2\" class=\"data row0 col2\" >0.255511</td>\n",
       "      <td id=\"T_6cc03_row0_col3\" class=\"data row0 col3\" >0.436148</td>\n",
       "      <td id=\"T_6cc03_row0_col4\" class=\"data row0 col4\" >0</td>\n",
       "      <td id=\"T_6cc03_row0_col5\" class=\"data row0 col5\" >2047</td>\n",
       "      <td id=\"T_6cc03_row0_col6\" class=\"data row0 col6\" >3.514791</td>\n",
       "      <td id=\"T_6cc03_row0_col7\" class=\"data row0 col7\" >9.556120</td>\n",
       "      <td id=\"T_6cc03_row0_col8\" class=\"data row0 col8\" >-3</td>\n",
       "      <td id=\"T_6cc03_row0_col9\" class=\"data row0 col9\" >27673</td>\n",
       "      <td id=\"T_6cc03_row0_col10\" class=\"data row0 col10\" >105.789756</td>\n",
       "      <td id=\"T_6cc03_row0_col11\" class=\"data row0 col11\" >391.061748</td>\n",
       "      <td id=\"T_6cc03_row0_col12\" class=\"data row0 col12\" >0</td>\n",
       "      <td id=\"T_6cc03_row0_col13\" class=\"data row0 col13\" >65535</td>\n",
       "      <td id=\"T_6cc03_row0_col14\" class=\"data row0 col14\" >26.886572</td>\n",
       "      <td id=\"T_6cc03_row0_col15\" class=\"data row0 col15\" >392.570772</td>\n",
       "      <td id=\"T_6cc03_row0_col16\" class=\"data row0 col16\" >0</td>\n",
       "      <td id=\"T_6cc03_row0_col17\" class=\"data row0 col17\" >969</td>\n",
       "    </tr>\n",
       "  </tbody>\n",
       "</table>\n"
      ],
      "text/plain": [
       "<pandas.io.formats.style.Styler at 0x72d2d56e7610>"
      ]
     },
     "metadata": {},
     "output_type": "display_data"
    },
    {
     "data": {
      "text/html": [
       "<style type=\"text/css\">\n",
       "#T_d6f57_row0_col0, #T_d6f57_row0_col1, #T_d6f57_row0_col2, #T_d6f57_row0_col3, #T_d6f57_row0_col4, #T_d6f57_row0_col5, #T_d6f57_row0_col6, #T_d6f57_row0_col7, #T_d6f57_row0_col8, #T_d6f57_row0_col9, #T_d6f57_row0_col10, #T_d6f57_row0_col11, #T_d6f57_row0_col12, #T_d6f57_row0_col13, #T_d6f57_row0_col14, #T_d6f57_row0_col15, #T_d6f57_row0_col16, #T_d6f57_row0_col17 {\n",
       "  background-color: lightgreen;\n",
       "  background-color: salmon;\n",
       "  text-align: center;\n",
       "}\n",
       "</style>\n",
       "<table id=\"T_d6f57\">\n",
       "  <thead>\n",
       "    <tr>\n",
       "      <th class=\"blank level0\" >&nbsp;</th>\n",
       "      <th id=\"T_d6f57_level0_col0\" class=\"col_heading level0 col0\" >I4_avg</th>\n",
       "      <th id=\"T_d6f57_level0_col1\" class=\"col_heading level0 col1\" >I4_std</th>\n",
       "      <th id=\"T_d6f57_level0_col2\" class=\"col_heading level0 col2\" >I5_min</th>\n",
       "      <th id=\"T_d6f57_level0_col3\" class=\"col_heading level0 col3\" >I5_max</th>\n",
       "      <th id=\"T_d6f57_level0_col4\" class=\"col_heading level0 col4\" >I5_avg</th>\n",
       "      <th id=\"T_d6f57_level0_col5\" class=\"col_heading level0 col5\" >I5_std</th>\n",
       "      <th id=\"T_d6f57_level0_col6\" class=\"col_heading level0 col6\" >I6_min</th>\n",
       "      <th id=\"T_d6f57_level0_col7\" class=\"col_heading level0 col7\" >I6_max</th>\n",
       "      <th id=\"T_d6f57_level0_col8\" class=\"col_heading level0 col8\" >I6_avg</th>\n",
       "      <th id=\"T_d6f57_level0_col9\" class=\"col_heading level0 col9\" >I6_std</th>\n",
       "      <th id=\"T_d6f57_level0_col10\" class=\"col_heading level0 col10\" >I7_min</th>\n",
       "      <th id=\"T_d6f57_level0_col11\" class=\"col_heading level0 col11\" >I7_max</th>\n",
       "      <th id=\"T_d6f57_level0_col12\" class=\"col_heading level0 col12\" >I7_avg</th>\n",
       "      <th id=\"T_d6f57_level0_col13\" class=\"col_heading level0 col13\" >I7_std</th>\n",
       "      <th id=\"T_d6f57_level0_col14\" class=\"col_heading level0 col14\" >I8_min</th>\n",
       "      <th id=\"T_d6f57_level0_col15\" class=\"col_heading level0 col15\" >I8_max</th>\n",
       "      <th id=\"T_d6f57_level0_col16\" class=\"col_heading level0 col16\" >I8_avg</th>\n",
       "      <th id=\"T_d6f57_level0_col17\" class=\"col_heading level0 col17\" >I8_std</th>\n",
       "    </tr>\n",
       "  </thead>\n",
       "  <tbody>\n",
       "    <tr>\n",
       "      <th id=\"T_d6f57_level0_row0\" class=\"row_heading level0 row0\" >0</th>\n",
       "      <td id=\"T_d6f57_row0_col0\" class=\"data row0 col0\" >7.330218</td>\n",
       "      <td id=\"T_d6f57_row0_col1\" class=\"data row0 col1\" >8.880876</td>\n",
       "      <td id=\"T_d6f57_row0_col2\" class=\"data row0 col2\" >0</td>\n",
       "      <td id=\"T_d6f57_row0_col3\" class=\"data row0 col3\" >2632275</td>\n",
       "      <td id=\"T_d6f57_row0_col4\" class=\"data row0 col4\" >18569.780451</td>\n",
       "      <td id=\"T_d6f57_row0_col5\" class=\"data row0 col5\" >69492.913900</td>\n",
       "      <td id=\"T_d6f57_row0_col6\" class=\"data row0 col6\" >0</td>\n",
       "      <td id=\"T_d6f57_row0_col7\" class=\"data row0 col7\" >367553</td>\n",
       "      <td id=\"T_d6f57_row0_col8\" class=\"data row0 col8\" >116.335423</td>\n",
       "      <td id=\"T_d6f57_row0_col9\" class=\"data row0 col9\" >437.623023</td>\n",
       "      <td id=\"T_d6f57_row0_col10\" class=\"data row0 col10\" >0</td>\n",
       "      <td id=\"T_d6f57_row0_col11\" class=\"data row0 col11\" >6811</td>\n",
       "      <td id=\"T_d6f57_row0_col12\" class=\"data row0 col12\" >16.296015</td>\n",
       "      <td id=\"T_d6f57_row0_col13\" class=\"data row0 col13\" >63.332079</td>\n",
       "      <td id=\"T_d6f57_row0_col14\" class=\"data row0 col14\" >0</td>\n",
       "      <td id=\"T_d6f57_row0_col15\" class=\"data row0 col15\" >5180</td>\n",
       "      <td id=\"T_d6f57_row0_col16\" class=\"data row0 col16\" >12.534287</td>\n",
       "      <td id=\"T_d6f57_row0_col17\" class=\"data row0 col17\" >17.261824</td>\n",
       "    </tr>\n",
       "  </tbody>\n",
       "</table>\n"
      ],
      "text/plain": [
       "<pandas.io.formats.style.Styler at 0x72d20e179a50>"
      ]
     },
     "metadata": {},
     "output_type": "display_data"
    },
    {
     "data": {
      "text/html": [
       "<style type=\"text/css\">\n",
       "#T_5215b_row0_col0, #T_5215b_row0_col1, #T_5215b_row0_col2, #T_5215b_row0_col3, #T_5215b_row0_col4, #T_5215b_row0_col5, #T_5215b_row0_col6, #T_5215b_row0_col7, #T_5215b_row0_col8, #T_5215b_row0_col9, #T_5215b_row0_col10, #T_5215b_row0_col11, #T_5215b_row0_col12, #T_5215b_row0_col13, #T_5215b_row0_col14, #T_5215b_row0_col15, #T_5215b_row0_col16, #T_5215b_row0_col17, #T_5215b_row0_col18, #T_5215b_row0_col19 {\n",
       "  background-color: lightgreen;\n",
       "  background-color: salmon;\n",
       "  text-align: center;\n",
       "}\n",
       "</style>\n",
       "<table id=\"T_5215b\">\n",
       "  <thead>\n",
       "    <tr>\n",
       "      <th class=\"blank level0\" >&nbsp;</th>\n",
       "      <th id=\"T_5215b_level0_col0\" class=\"col_heading level0 col0\" >I9_min</th>\n",
       "      <th id=\"T_5215b_level0_col1\" class=\"col_heading level0 col1\" >I9_max</th>\n",
       "      <th id=\"T_5215b_level0_col2\" class=\"col_heading level0 col2\" >I9_avg</th>\n",
       "      <th id=\"T_5215b_level0_col3\" class=\"col_heading level0 col3\" >I9_std</th>\n",
       "      <th id=\"T_5215b_level0_col4\" class=\"col_heading level0 col4\" >I10_min</th>\n",
       "      <th id=\"T_5215b_level0_col5\" class=\"col_heading level0 col5\" >I10_max</th>\n",
       "      <th id=\"T_5215b_level0_col6\" class=\"col_heading level0 col6\" >I10_avg</th>\n",
       "      <th id=\"T_5215b_level0_col7\" class=\"col_heading level0 col7\" >I10_std</th>\n",
       "      <th id=\"T_5215b_level0_col8\" class=\"col_heading level0 col8\" >I11_min</th>\n",
       "      <th id=\"T_5215b_level0_col9\" class=\"col_heading level0 col9\" >I11_max</th>\n",
       "      <th id=\"T_5215b_level0_col10\" class=\"col_heading level0 col10\" >I11_avg</th>\n",
       "      <th id=\"T_5215b_level0_col11\" class=\"col_heading level0 col11\" >I11_std</th>\n",
       "      <th id=\"T_5215b_level0_col12\" class=\"col_heading level0 col12\" >I12_min</th>\n",
       "      <th id=\"T_5215b_level0_col13\" class=\"col_heading level0 col13\" >I12_max</th>\n",
       "      <th id=\"T_5215b_level0_col14\" class=\"col_heading level0 col14\" >I12_avg</th>\n",
       "      <th id=\"T_5215b_level0_col15\" class=\"col_heading level0 col15\" >I12_std</th>\n",
       "      <th id=\"T_5215b_level0_col16\" class=\"col_heading level0 col16\" >I13_min</th>\n",
       "      <th id=\"T_5215b_level0_col17\" class=\"col_heading level0 col17\" >I13_max</th>\n",
       "      <th id=\"T_5215b_level0_col18\" class=\"col_heading level0 col18\" >I13_avg</th>\n",
       "      <th id=\"T_5215b_level0_col19\" class=\"col_heading level0 col19\" >I13_std</th>\n",
       "    </tr>\n",
       "  </thead>\n",
       "  <tbody>\n",
       "    <tr>\n",
       "      <th id=\"T_5215b_level0_row0\" class=\"row_heading level0 row0\" >0</th>\n",
       "      <td id=\"T_5215b_row0_col0\" class=\"data row0 col0\" >0</td>\n",
       "      <td id=\"T_5215b_row0_col1\" class=\"data row0 col1\" >17111</td>\n",
       "      <td id=\"T_5215b_row0_col2\" class=\"data row0 col2\" >106.184452</td>\n",
       "      <td id=\"T_5215b_row0_col3\" class=\"data row0 col3\" >220.637161</td>\n",
       "      <td id=\"T_5215b_row0_col4\" class=\"data row0 col4\" >0</td>\n",
       "      <td id=\"T_5215b_row0_col5\" class=\"data row0 col5\" >8</td>\n",
       "      <td id=\"T_5215b_row0_col6\" class=\"data row0 col6\" >0.618575</td>\n",
       "      <td id=\"T_5215b_row0_col7\" class=\"data row0 col7\" >0.684772</td>\n",
       "      <td id=\"T_5215b_row0_col8\" class=\"data row0 col8\" >0</td>\n",
       "      <td id=\"T_5215b_row0_col9\" class=\"data row0 col9\" >160</td>\n",
       "      <td id=\"T_5215b_row0_col10\" class=\"data row0 col10\" >2.730571</td>\n",
       "      <td id=\"T_5215b_row0_col11\" class=\"data row0 col11\" >5.196490</td>\n",
       "      <td id=\"T_5215b_row0_col12\" class=\"data row0 col12\" >0</td>\n",
       "      <td id=\"T_5215b_row0_col13\" class=\"data row0 col13\" >689</td>\n",
       "      <td id=\"T_5215b_row0_col14\" class=\"data row0 col14\" >0.990698</td>\n",
       "      <td id=\"T_5215b_row0_col15\" class=\"data row0 col15\" >5.190064</td>\n",
       "      <td id=\"T_5215b_row0_col16\" class=\"data row0 col16\" >0</td>\n",
       "      <td id=\"T_5215b_row0_col17\" class=\"data row0 col17\" >4685</td>\n",
       "      <td id=\"T_5215b_row0_col18\" class=\"data row0 col18\" >8.237227</td>\n",
       "      <td id=\"T_5215b_row0_col19\" class=\"data row0 col19\" >16.544639</td>\n",
       "    </tr>\n",
       "  </tbody>\n",
       "</table>\n"
      ],
      "text/plain": [
       "<pandas.io.formats.style.Styler at 0x72d33f52f790>"
      ]
     },
     "metadata": {},
     "output_type": "display_data"
    }
   ],
   "source": [
    "# outliers\n",
    "\n",
    "numeric_cols = [col_name for col_name, dtype in data.dtypes if dtype in (\"int\", \"double\", \"float\")]\n",
    "stat_list = []\n",
    "for col in numeric_cols:\n",
    "    stat_list.append(F.min(col).alias(f\"{col}_min\"))\n",
    "    stat_list.append(F.max(col).alias(f\"{col}_max\"))\n",
    "    stat_list.append(F.avg(col).alias(f\"{col}_avg\"))\n",
    "    stat_list.append(F.stddev(col).alias(f\"{col}_std\"))\n",
    "\n",
    "summary_stats = data.select(*stat_list)\n",
    "\n",
    "summary_stats_pandas = summary_stats.toPandas()\n",
    "\n",
    "third_len = len(summary_stats_pandas.columns) // 3\n",
    "\n",
    "df_part1 = summary_stats_pandas.iloc[:, :third_len]  # Pierwsza część\n",
    "df_part2 = summary_stats_pandas.iloc[:, third_len:2*third_len]  # Druga część\n",
    "df_part3 = summary_stats_pandas.iloc[:, 2*third_len:]  # Trzecia część\n",
    "\n",
    "styled_part1 = df_part1.style \\\n",
    "    .highlight_max(color='lightgreen') \\\n",
    "    .highlight_min(color='salmon') \\\n",
    "    .set_properties(**{'text-align': 'center'})\n",
    "\n",
    "styled_part2 = df_part2.style \\\n",
    "    .highlight_max(color='lightgreen') \\\n",
    "    .highlight_min(color='salmon') \\\n",
    "    .set_properties(**{'text-align': 'center'})\n",
    "\n",
    "styled_part3 = df_part3.style \\\n",
    "    .highlight_max(color='lightgreen') \\\n",
    "    .highlight_min(color='salmon') \\\n",
    "    .set_properties(**{'text-align': 'center'})\n",
    "\n",
    "display(styled_part1)  \n",
    "display(styled_part2)  \n",
    "display(styled_part3)"
   ]
  },
  {
   "cell_type": "code",
   "execution_count": 29,
   "id": "c05c7008-7603-4aea-86aa-69cb36c3b52d",
   "metadata": {},
   "outputs": [
    {
     "data": {
      "image/png": "[encoded data removed]",
      "text/plain": [
       "<Figure size 1500x1000 with 14 Axes>"
      ]
     },
     "metadata": {},
     "output_type": "display_data"
    }
   ],
   "source": [
    "plt.figure(figsize=(15, 10))\n",
    "\n",
    "for i, col in enumerate(numeric_cols):\n",
    "    plt.subplot(len(numeric_cols)//5 + 1, 5, i + 1) \n",
    "    sns.boxplot(data=dataPd, x=col, orient=\"h\")\n",
    "    plt.title(f\"Boxplot for {col}\")\n",
    "\n",
    "plt.tight_layout()\n",
    "plt.show()"
   ]
  },
  {
   "cell_type": "code",
   "execution_count": 30,
   "id": "554bc3ce-d637-4aea-bce0-bc14f6250c16",
   "metadata": {},
   "outputs": [
    {
     "name": "stdout",
     "output_type": "stream",
     "text": [
      "Column 'Label': 2 unique values\n",
      "Column 'I1': 321 unique values\n",
      "Column 'I2': 5022 unique values\n",
      "Column 'I3': 2730 unique values\n",
      "Column 'I4': 201 unique values\n",
      "Column 'I5': 125605 unique values\n",
      "Column 'I6': 4956 unique values\n",
      "Column 'I7': 1818 unique values\n",
      "Column 'I8': 460 unique values\n",
      "Column 'I9': 3805 unique values\n",
      "Column 'I10': 9 unique values\n",
      "Column 'I11': 136 unique values\n",
      "Column 'I12': 188 unique values\n",
      "Column 'I13': 435 unique values\n",
      "Column 'C1': 1409 unique values\n",
      "Column 'C2': 553 unique values\n",
      "Column 'C3': 752501 unique values\n",
      "Column 'C4': 257915 unique values\n",
      "Column 'C5': 299 unique values\n",
      "Column 'C6': 17 unique values\n",
      "Column 'C7': 11742 unique values\n",
      "Column 'C8': 622 unique values\n",
      "Column 'C9': 3 unique values\n",
      "Column 'C10': 42459 unique values\n",
      "Column 'C11': 5127 unique values\n",
      "Column 'C12': 661407 unique values\n",
      "Column 'C13': 3169 unique values\n",
      "Column 'C14': 26 unique values\n",
      "Column 'C15': 10919 unique values\n",
      "Column 'C16': 489342 unique values\n",
      "Column 'C17': 10 unique values\n",
      "Column 'C18': 4487 unique values\n",
      "Column 'C19': 1983 unique values\n",
      "Column 'C20': 3 unique values\n",
      "Column 'C21': 588729 unique values\n",
      "Column 'C22': 16 unique values\n",
      "Column 'C23': 15 unique values\n",
      "Column 'C24': 69304 unique values\n",
      "Column 'C25': 81 unique values\n",
      "Column 'C26': 47568 unique values\n"
     ]
    },
    {
     "data": {
      "image/png": "[encoded data removed]",
      "text/plain": [
       "<Figure size 1200x600 with 1 Axes>"
      ]
     },
     "metadata": {},
     "output_type": "display_data"
    }
   ],
   "source": [
    "# cardinality of the features\n",
    "\n",
    "unique_counts = []\n",
    "\n",
    "for column in data.columns:\n",
    "    unique_count = data.select(F.countDistinct(F.col(column))).collect()[0][0]  \n",
    "    unique_counts.append((column, unique_count))\n",
    "    print(f\"Column '{column}': {unique_count} unique values\")\n",
    "\n",
    "unique_counts_df = pd.DataFrame(unique_counts, columns=['Column', 'Unique Count'])\n",
    "\n",
    "plt.figure(figsize=(12, 6))\n",
    "plt.bar(unique_counts_df['Column'], unique_counts_df['Unique Count'], color='teal')\n",
    "plt.xticks(rotation=90)  \n",
    "plt.xlabel('Columns')\n",
    "plt.ylabel('Number of Unique Values')\n",
    "plt.title('Number of Unique Values per Column')\n",
    "plt.tight_layout()\n",
    "plt.show()"
   ]
  },
  {
   "cell_type": "code",
   "execution_count": 31,
   "id": "46d908d2-019a-459d-a6ff-2693749a6744",
   "metadata": {},
   "outputs": [
    {
     "data": {
      "image/png": "[encoded data removed]",
      "text/plain": [
       "<Figure size 1200x800 with 2 Axes>"
      ]
     },
     "metadata": {},
     "output_type": "display_data"
    }
   ],
   "source": [
    "# correlation matrix\n",
    "\n",
    "numeric_cols = [col_name for col_name, dtype in data.dtypes if dtype in (\"int\", \"double\", \"float\")]\n",
    "\n",
    "correlation_matrix = pd.DataFrame(columns=numeric_cols, index=numeric_cols)\n",
    "\n",
    "for col1 in numeric_cols:\n",
    "    for col2 in numeric_cols:\n",
    "        correlation_matrix.loc[col1, col2] = data.stat.corr(col1, col2) \n",
    "\n",
    "correlation_matrix = correlation_matrix.astype(float)  \n",
    "\n",
    "plt.figure(figsize=(12, 8))\n",
    "sns.heatmap(correlation_matrix, annot=True, cmap=\"coolwarm\", fmt=\".2f\")\n",
    "plt.title(\"Correlation Matrix\")\n",
    "plt.show()"
   ]
  },
  {
   "cell_type": "code",
   "execution_count": 32,
   "id": "efba144d-cce9-4c10-a473-e70c48ae086d",
   "metadata": {
    "scrolled": true
   },
   "outputs": [
    {
     "data": {
      "image/png": "[encoded data removed]",
      "text/plain": [
       "<Figure size 600x400 with 1 Axes>"
      ]
     },
     "metadata": {},
     "output_type": "display_data"
    },
    {
     "name": "stdout",
     "output_type": "stream",
     "text": [
      "Percentage distribution of the target:\n",
      " Label\n",
      "0    74.448915\n",
      "1    25.551085\n",
      "Name: proportion, dtype: float64\n"
     ]
    }
   ],
   "source": [
    "# class distribution\n",
    "y = dataPd['Label']\n",
    "\n",
    "plt.figure(figsize=(6,4))\n",
    "y.value_counts().plot(kind='bar', color= 'teal')\n",
    "plt.title('Class distribution of target variable')\n",
    "plt.xlabel('Label')\n",
    "plt.ylabel('Count')\n",
    "plt.grid(True)\n",
    "plt.show()\n",
    "\n",
    "class_distribution = y.value_counts(normalize=True) * 100\n",
    "print(\"Percentage distribution of the target:\\n\", class_distribution)"
   ]
  },
  {
   "cell_type": "markdown",
   "id": "da2c6e05-d044-4b86-aaaa-ab4b9618f4d0",
   "metadata": {},
   "source": [
    "**Konwersja wartości szesnastkowych na liczby dziesiętne**"
   ]
  },
  {
   "cell_type": "code",
   "execution_count": 33,
   "id": "8f5b3e7f-eeae-48fd-a8e4-34a04469497d",
   "metadata": {},
   "outputs": [],
   "source": [
    "def convert_hex_to_num(df):\n",
    "    for column in df.columns:\n",
    "        if dict(df.dtypes)[column] == 'string':\n",
    "            df = df.withColumn(\n",
    "                column,\n",
    "                F.when(\n",
    "                    F.trim(F.col(column)).rlike('^[0-9A-Fa-f]+$'),\n",
    "                    F.conv(F.trim(F.col(column)), 16, 10).cast(LongType())\n",
    "                ).otherwise(None)\n",
    "            )\n",
    "    return df"
   ]
  },
  {
   "cell_type": "code",
   "execution_count": 34,
   "id": "df8c0f93-8439-47d7-a07d-5fde504e61c9",
   "metadata": {},
   "outputs": [
    {
     "name": "stdout",
     "output_type": "stream",
     "text": [
      "root\n",
      " |-- Label: integer (nullable = true)\n",
      " |-- I1: integer (nullable = true)\n",
      " |-- I2: integer (nullable = true)\n",
      " |-- I3: integer (nullable = true)\n",
      " |-- I4: integer (nullable = true)\n",
      " |-- I5: integer (nullable = true)\n",
      " |-- I6: integer (nullable = true)\n",
      " |-- I7: integer (nullable = true)\n",
      " |-- I8: integer (nullable = true)\n",
      " |-- I9: integer (nullable = true)\n",
      " |-- I10: integer (nullable = true)\n",
      " |-- I11: integer (nullable = true)\n",
      " |-- I12: integer (nullable = true)\n",
      " |-- I13: integer (nullable = true)\n",
      " |-- C1: long (nullable = true)\n",
      " |-- C2: long (nullable = true)\n",
      " |-- C3: long (nullable = true)\n",
      " |-- C4: long (nullable = true)\n",
      " |-- C5: long (nullable = true)\n",
      " |-- C6: long (nullable = true)\n",
      " |-- C7: long (nullable = true)\n",
      " |-- C8: long (nullable = true)\n",
      " |-- C9: long (nullable = true)\n",
      " |-- C10: long (nullable = true)\n",
      " |-- C11: long (nullable = true)\n",
      " |-- C12: long (nullable = true)\n",
      " |-- C13: long (nullable = true)\n",
      " |-- C14: long (nullable = true)\n",
      " |-- C15: long (nullable = true)\n",
      " |-- C16: long (nullable = true)\n",
      " |-- C17: long (nullable = true)\n",
      " |-- C18: long (nullable = true)\n",
      " |-- C19: long (nullable = true)\n",
      " |-- C20: long (nullable = true)\n",
      " |-- C21: long (nullable = true)\n",
      " |-- C22: long (nullable = true)\n",
      " |-- C23: long (nullable = true)\n",
      " |-- C24: long (nullable = true)\n",
      " |-- C25: long (nullable = true)\n",
      " |-- C26: long (nullable = true)\n",
      "\n"
     ]
    }
   ],
   "source": [
    "data = convert_hex_to_num(data)\n",
    "data.printSchema()"
   ]
  },
  {
   "cell_type": "markdown",
   "id": "e30c12d8-a2bc-473a-9446-3fca6fa52dea",
   "metadata": {},
   "source": [
    "**Usunięcie kolumn i wierszy (nadmiarowych oraz z dużą liczbą NANów)**"
   ]
  },
  {
   "cell_type": "code",
   "execution_count": 35,
   "id": "0be93434-9929-4e3b-b644-8ca8f91d8301",
   "metadata": {},
   "outputs": [],
   "source": [
    "columns_to_drop = ['I12', 'C22']\n",
    "columns_strongly_correlated = ['I3', 'I8', 'I9']"
   ]
  },
  {
   "cell_type": "code",
   "execution_count": 36,
   "id": "15603b62-816e-4da0-b5df-842dc5d4ce6d",
   "metadata": {},
   "outputs": [
    {
     "name": "stdout",
     "output_type": "stream",
     "text": [
      "['Label', 'I1', 'I2', 'I4', 'I5', 'I6', 'I7', 'I10', 'I11', 'I13', 'C1', 'C2', 'C3', 'C4', 'C5', 'C6', 'C7', 'C8', 'C9', 'C10', 'C11', 'C12', 'C13', 'C14', 'C15', 'C16', 'C17', 'C18', 'C19', 'C20', 'C21', 'C23', 'C24', 'C25', 'C26']\n"
     ]
    }
   ],
   "source": [
    "columns_to_drop_all = columns_to_drop + columns_strongly_correlated \n",
    "data_cleaned = data.drop(*columns_to_drop_all)\n",
    "data_cleaned = data_cleaned.na.drop(how=\"all\")\n",
    "print(data_cleaned.columns)"
   ]
  },
  {
   "cell_type": "markdown",
   "id": "702dbc52-7410-497e-932c-15c8e3e5a6fc",
   "metadata": {},
   "source": [
    "**Imputacja wartości odstających**"
   ]
  },
  {
   "cell_type": "code",
   "execution_count": 37,
   "id": "b6f4671c-4430-4fc2-ae88-2cee28c755ad",
   "metadata": {},
   "outputs": [],
   "source": [
    "def handle_outliers(df, numeric_cols, method=\"iqr\", action=\"cap\", z_thresh=3.0, iqr_multiplier=1.5, threshold_ratio=0.2):\n",
    "    updated_df = df\n",
    "\n",
    "    for col in numeric_cols:\n",
    "        stats = df.selectExpr(\n",
    "            f'percentile({col}, array(0.25, 0.5, 0.75)) as percentiles',\n",
    "            f'mean({col}) as mean',\n",
    "            f'stddev({col}) as stddev'\n",
    "        ).first()\n",
    "\n",
    "        q1, median, q3 = stats['percentiles']\n",
    "        mean, stddev = stats['mean'], stats['stddev']\n",
    "        iqr = q3 - q1\n",
    "        lower_iqr, upper_iqr = q1 - iqr_multiplier * iqr, q3 + iqr_multiplier * iqr\n",
    "        lower_z, upper_z = mean - z_thresh * stddev, mean + z_thresh * stddev\n",
    "\n",
    "        lower, upper = (lower_iqr, upper_iqr) if method == \"iqr\" else (lower_z, upper_z)\n",
    "\n",
    "        total_count = df.filter(F.col(col).isNotNull()).count()\n",
    "        outlier_count = df.filter((F.col(col) < lower) | (F.col(col) > upper)).count()\n",
    "        outlier_ratio = outlier_count / total_count if total_count else 0\n",
    "\n",
    "        if outlier_ratio == 0:\n",
    "            continue\n",
    "\n",
    "        if outlier_ratio > threshold_ratio:\n",
    "            print(f\"Skipping {col} due to high outlier ratio.\")\n",
    "            continue\n",
    "\n",
    "        if action == \"remove\":\n",
    "            updated_df = updated_df.filter((F.col(col) >= lower) & (F.col(col) <= upper))\n",
    "        elif action == \"impute\":\n",
    "            updated_df = updated_df.withColumn(\n",
    "                col,\n",
    "                F.when((F.col(col) < lower) | (F.col(col) > upper), median).otherwise(F.col(col))\n",
    "            )\n",
    "        elif action == \"cap\":\n",
    "            updated_df = updated_df.withColumn(\n",
    "                col,\n",
    "                F.when(F.col(col) < lower, lower)\n",
    "                 .when(F.col(col) > upper, upper)\n",
    "                 .otherwise(F.col(col))\n",
    "            )\n",
    "        else:\n",
    "            raise ValueError(\"Invalid action: choose from 'cap', 'remove', 'impute'.\")\n",
    "\n",
    "    return updated_df\n",
    "\n",
    "def generate_outlier_handling_datasets(df, numeric_cols):\n",
    "    # methods = [\"iqr\", \"z-score\"]\n",
    "    # actions = [\"cap\", \"remove\", \"impute\"]\n",
    "    methods = [\"iqr\"]\n",
    "    actions = [\"cap\"]\n",
    "\n",
    "    results = {}\n",
    "    \n",
    "    for method in methods:\n",
    "        for action in actions:\n",
    "            print(f\"\\nMethod: {method.upper()}, Action: {action.upper()}\")\n",
    "            handled_df = handle_outliers(\n",
    "                df=df,\n",
    "                numeric_cols=numeric_cols,\n",
    "                method=method,\n",
    "                action=action,\n",
    "                z_thresh=3.0,\n",
    "                iqr_multiplier=1.5,\n",
    "                threshold_ratio=0.2\n",
    "            )\n",
    "            label = f\"{method}_{action}\"\n",
    "            results[label] = handled_df\n",
    "            # display_summary(handled_df, f\"After Outlier Handling - Method: {method.upper()}, Action: {action.upper()}\")\n",
    "\n",
    "    return results"
   ]
  },
  {
   "cell_type": "code",
   "execution_count": 38,
   "id": "2769ce8b-ac9b-44dd-9f17-a889dc840e87",
   "metadata": {
    "scrolled": true
   },
   "outputs": [
    {
     "name": "stdout",
     "output_type": "stream",
     "text": [
      "\n",
      "Method: IQR, Action: CAP\n"
     ]
    }
   ],
   "source": [
    "numeric_cols = [col_name for col_name, dtype in data_cleaned.dtypes if dtype in (\"int\", \"double\", \"float\")]\n",
    "# report_outliers_dual(data_cleaned, numeric_cols)\n",
    "\n",
    "data_no_outliers = generate_outlier_handling_datasets(data_cleaned, numeric_cols)"
   ]
  },
  {
   "cell_type": "markdown",
   "id": "fc2848d3-cede-42e0-b0c8-b868e4fa5db9",
   "metadata": {},
   "source": [
    "**Imputacja brakujących wartości**"
   ]
  },
  {
   "cell_type": "code",
   "execution_count": 39,
   "id": "a0f9fbea-0640-4d12-bdce-c7a48335de7b",
   "metadata": {},
   "outputs": [],
   "source": [
    "def get_mode(df, column):\n",
    "    mode_df = df.groupBy(column).count().orderBy(F.desc(\"count\"))\n",
    "    if mode_df.filter(F.col(column).isNotNull()).count() > 0:\n",
    "        return mode_df.filter(F.col(column).isNotNull()).first()[column]\n",
    "    return None\n",
    "\n",
    "def impute_all_datasets(modified_versions, columns_to_imputate_rand):\n",
    "    results = {}\n",
    "\n",
    "    for name, df in modified_versions.items():\n",
    "        print(f\"\\n--- Imputing Dataset: {name} ---\")\n",
    "        current_df = df\n",
    "\n",
    "        existing_columns = set(current_df.columns)\n",
    "        numeric_columns = [col for col in columns_to_imputate_rand if col.startswith('I') and col in existing_columns]\n",
    "        categorical_columns = [col for col in columns_to_imputate_rand if col.startswith('C') and col in existing_columns]\n",
    "\n",
    "        modes = {col: get_mode(current_df, col) for col in categorical_columns}\n",
    "\n",
    "        # Fill categorical columns\n",
    "        for col in categorical_columns:\n",
    "            if modes[col] is not None:\n",
    "                current_df = current_df.withColumn(\n",
    "                    col, \n",
    "                    F.when(F.col(col).isNull(), modes[col]).otherwise(F.col(col))\n",
    "                )\n",
    "\n",
    "        # Apply median imputation to numeric columns\n",
    "        if numeric_columns:\n",
    "            imputer = Imputer(\n",
    "                inputCols=numeric_columns,\n",
    "                outputCols=numeric_columns,\n",
    "                strategy=\"median\"\n",
    "            )\n",
    "            imputer_model = imputer.fit(current_df)\n",
    "            current_df = imputer_model.transform(current_df)\n",
    "\n",
    "        # Final null check\n",
    "        for col in columns_to_imputate_rand:\n",
    "            if col in current_df.columns and current_df.filter(F.col(col).isNull()).count() > 0:\n",
    "                print(f\"Column {col} in {name} still has NULL values!\")\n",
    "\n",
    "        results[name] = current_df\n",
    "\n",
    "    return results"
   ]
  },
  {
   "cell_type": "code",
   "execution_count": 40,
   "id": "2a66d805-9b73-4907-842f-c042f47cfa22",
   "metadata": {},
   "outputs": [
    {
     "name": "stdout",
     "output_type": "stream",
     "text": [
      "\n",
      "--- Imputing Dataset: iqr_cap ---\n"
     ]
    }
   ],
   "source": [
    "columns_to_imputate = ['I1', 'I3', 'I4', 'I5', 'I6', 'I7', 'I8', 'I9', 'I10', 'I11', 'I13', 'C3', 'C4', 'C6', 'C12', 'C16', 'C19', 'C20', 'C21', 'C24', 'C25', 'C26']\n",
    "\n",
    "data_no_missing_values= impute_all_datasets(data_no_outliers, columns_to_imputate)"
   ]
  },
  {
   "cell_type": "code",
   "execution_count": 41,
   "id": "3a41b0b4-9897-4168-95d2-25579e4cf30e",
   "metadata": {},
   "outputs": [],
   "source": [
    "def evaluate_outlier_handling(original_df, modified_dfs: dict, numeric_cols: list):\n",
    "    from pyspark.sql.functions import avg, stddev\n",
    "\n",
    "    results = []\n",
    "    original_count = original_df.count()\n",
    "\n",
    "    for method_action, df in modified_dfs.items():\n",
    "        row_count = df.count()\n",
    "        row_retention = row_count / original_count\n",
    "\n",
    "        stats = df.select(\n",
    "            *[avg(c).alias(f\"{c}_avg\") for c in numeric_cols] +\n",
    "            [stddev(c).alias(f\"{c}_std\") for c in numeric_cols]\n",
    "        ).toPandas()\n",
    "\n",
    "        avg_mean = stats.loc[0, [c for c in stats.columns if c.endswith(\"_avg\")]].mean()\n",
    "        avg_std = stats.loc[0, [c for c in stats.columns if c.endswith(\"_std\")]].mean()\n",
    "\n",
    "        results.append({\n",
    "            \"Method_Action\": method_action.replace(\"_\", \" \").title(),\n",
    "            \"Rows Retained (%)\": round(row_retention * 100, 2),\n",
    "            \"Average Mean\": round(avg_mean, 4),\n",
    "            \"Average StdDev\": round(avg_std, 4),\n",
    "        })\n",
    "\n",
    "    return pd.DataFrame(results).sort_values(\"Rows Retained (%)\", ascending=False)\n"
   ]
  },
  {
   "cell_type": "code",
   "execution_count": 42,
   "id": "1a70f97b-d46c-4cdd-9888-330f9d677d1d",
   "metadata": {},
   "outputs": [
    {
     "data": {
      "text/html": [
       "<style type=\"text/css\">\n",
       "#T_68a45_row0_col1, #T_68a45_row0_col2, #T_68a45_row0_col3 {\n",
       "  background-color: #440154;\n",
       "  color: #f1f1f1;\n",
       "}\n",
       "</style>\n",
       "<table id=\"T_68a45\">\n",
       "  <thead>\n",
       "    <tr>\n",
       "      <th class=\"blank level0\" >&nbsp;</th>\n",
       "      <th id=\"T_68a45_level0_col0\" class=\"col_heading level0 col0\" >Method_Action</th>\n",
       "      <th id=\"T_68a45_level0_col1\" class=\"col_heading level0 col1\" >Rows Retained (%)</th>\n",
       "      <th id=\"T_68a45_level0_col2\" class=\"col_heading level0 col2\" >Average Mean</th>\n",
       "      <th id=\"T_68a45_level0_col3\" class=\"col_heading level0 col3\" >Average StdDev</th>\n",
       "    </tr>\n",
       "  </thead>\n",
       "  <tbody>\n",
       "    <tr>\n",
       "      <th id=\"T_68a45_level0_row0\" class=\"row_heading level0 row0\" >0</th>\n",
       "      <td id=\"T_68a45_row0_col0\" class=\"data row0 col0\" >Iqr Cap</td>\n",
       "      <td id=\"T_68a45_row0_col1\" class=\"data row0 col1\" >100.000000</td>\n",
       "      <td id=\"T_68a45_row0_col2\" class=\"data row0 col2\" >694.344100</td>\n",
       "      <td id=\"T_68a45_row0_col3\" class=\"data row0 col3\" >868.518500</td>\n",
       "    </tr>\n",
       "  </tbody>\n",
       "</table>\n"
      ],
      "text/plain": [
       "<pandas.io.formats.style.Styler at 0x72d13f364fd0>"
      ]
     },
     "metadata": {},
     "output_type": "display_data"
    }
   ],
   "source": [
    "evaluation_result = evaluate_outlier_handling(data_cleaned, data_no_missing_values, numeric_cols)\n",
    "display(evaluation_result.style.background_gradient(cmap='viridis'))"
   ]
  },
  {
   "cell_type": "code",
   "execution_count": 43,
   "id": "d3603f98-745f-480c-8f37-607e405d3a1d",
   "metadata": {},
   "outputs": [
    {
     "name": "stdout",
     "output_type": "stream",
     "text": [
      "Number of rows:\n",
      "2289077\n",
      "\n",
      "Column Names:\n",
      "['Label', 'I1', 'I2', 'I4', 'I5', 'I6', 'I7', 'I10', 'I11', 'I13', 'C1', 'C2', 'C3', 'C4', 'C5', 'C6', 'C7', 'C8', 'C9', 'C10', 'C11', 'C12', 'C13', 'C14', 'C15', 'C16', 'C17', 'C18', 'C19', 'C20', 'C21', 'C23', 'C24', 'C25', 'C26']\n"
     ]
    }
   ],
   "source": [
    "# final dataset\n",
    "print(\"Number of rows:\")\n",
    "print(data_no_missing_values[\"iqr_cap\"].count())\n",
    "\n",
    "print(\"\\nColumn Names:\")\n",
    "print(data_no_missing_values[\"iqr_cap\"].columns)\n"
   ]
  },
  {
   "cell_type": "code",
   "execution_count": 44,
   "id": "713bc130-06e2-4d78-95b0-91972b1b1375",
   "metadata": {},
   "outputs": [],
   "source": [
    "# saving the cleaned dataset to parquet format\n",
    "\n",
    "data_no_missing_values[\"iqr_cap\"].write.mode(\"overwrite\").parquet(\"dataset_no_missing_values\")"
   ]
  },
  {
   "cell_type": "code",
   "execution_count": 15,
   "id": "90a0028a-0f5d-4aa5-9f2d-730c926affe9",
   "metadata": {},
   "outputs": [],
   "source": [
    "# data_cleaned.write.mode(\"overwrite\").parquet(\"data_cleaned\")"
   ]
  },
  {
   "cell_type": "code",
   "execution_count": null,
   "id": "187eef38-996f-455a-9d1f-844cfc497546",
   "metadata": {},
   "outputs": [],
   "source": [
    "# data_no_outliers[\"iqr_cap\"].write.mode(\"overwrite\").parquet(\"dataset_no_outliers_iqr_cap\")"
   ]
  },
  {
   "cell_type": "code",
   "execution_count": 45,
   "id": "be936244-fa11-41b5-8486-cbf1432b0dcd",
   "metadata": {},
   "outputs": [
    {
     "data": {
      "text/html": [
       "<div>\n",
       "<style scoped>\n",
       "    .dataframe tbody tr th:only-of-type {\n",
       "        vertical-align: middle;\n",
       "    }\n",
       "\n",
       "    .dataframe tbody tr th {\n",
       "        vertical-align: top;\n",
       "    }\n",
       "\n",
       "    .dataframe thead th {\n",
       "        text-align: right;\n",
       "    }\n",
       "</style>\n",
       "<table border=\"1\" class=\"dataframe\">\n",
       "  <thead>\n",
       "    <tr style=\"text-align: right;\">\n",
       "      <th></th>\n",
       "      <th>Label</th>\n",
       "      <th>I1</th>\n",
       "      <th>I2</th>\n",
       "      <th>I4</th>\n",
       "      <th>I5</th>\n",
       "      <th>I6</th>\n",
       "      <th>I7</th>\n",
       "      <th>I10</th>\n",
       "      <th>I11</th>\n",
       "      <th>I13</th>\n",
       "      <th>...</th>\n",
       "      <th>C16</th>\n",
       "      <th>C17</th>\n",
       "      <th>C18</th>\n",
       "      <th>C19</th>\n",
       "      <th>C20</th>\n",
       "      <th>C21</th>\n",
       "      <th>C23</th>\n",
       "      <th>C24</th>\n",
       "      <th>C25</th>\n",
       "      <th>C26</th>\n",
       "    </tr>\n",
       "  </thead>\n",
       "  <tbody>\n",
       "    <tr>\n",
       "      <th>0</th>\n",
       "      <td>1</td>\n",
       "      <td>1.0</td>\n",
       "      <td>87.5</td>\n",
       "      <td>4.0</td>\n",
       "      <td>24847.5</td>\n",
       "      <td>208.0</td>\n",
       "      <td>1.0</td>\n",
       "      <td>1.0</td>\n",
       "      <td>1.0</td>\n",
       "      <td>4.0</td>\n",
       "      <td>...</td>\n",
       "      <td>2706241271</td>\n",
       "      <td>512280399</td>\n",
       "      <td>135613171</td>\n",
       "      <td>568184265</td>\n",
       "      <td>1480633834</td>\n",
       "      <td>3891316444</td>\n",
       "      <td>851920782</td>\n",
       "      <td>1043370398</td>\n",
       "      <td>4116448438</td>\n",
       "      <td>804119890</td>\n",
       "    </tr>\n",
       "    <tr>\n",
       "      <th>1</th>\n",
       "      <td>0</td>\n",
       "      <td>1.0</td>\n",
       "      <td>68.0</td>\n",
       "      <td>4.0</td>\n",
       "      <td>4177.0</td>\n",
       "      <td>53.0</td>\n",
       "      <td>24.0</td>\n",
       "      <td>1.0</td>\n",
       "      <td>6.0</td>\n",
       "      <td>4.0</td>\n",
       "      <td>...</td>\n",
       "      <td>3548315276</td>\n",
       "      <td>881205885</td>\n",
       "      <td>2650054349</td>\n",
       "      <td>568184265</td>\n",
       "      <td>1480633834</td>\n",
       "      <td>3054605081</td>\n",
       "      <td>3686041303</td>\n",
       "      <td>1168872648</td>\n",
       "      <td>3406273581</td>\n",
       "      <td>2973715166</td>\n",
       "    </tr>\n",
       "    <tr>\n",
       "      <th>2</th>\n",
       "      <td>0</td>\n",
       "      <td>1.0</td>\n",
       "      <td>55.0</td>\n",
       "      <td>8.0</td>\n",
       "      <td>21.0</td>\n",
       "      <td>32.0</td>\n",
       "      <td>0.0</td>\n",
       "      <td>1.0</td>\n",
       "      <td>0.0</td>\n",
       "      <td>6.0</td>\n",
       "      <td>...</td>\n",
       "      <td>2223606570</td>\n",
       "      <td>2003624857</td>\n",
       "      <td>1478578923</td>\n",
       "      <td>568184265</td>\n",
       "      <td>1480633834</td>\n",
       "      <td>1360682</td>\n",
       "      <td>974593739</td>\n",
       "      <td>1071331371</td>\n",
       "      <td>2045441</td>\n",
       "      <td>2858355221</td>\n",
       "    </tr>\n",
       "    <tr>\n",
       "      <th>3</th>\n",
       "      <td>0</td>\n",
       "      <td>1.0</td>\n",
       "      <td>-1.0</td>\n",
       "      <td>4.0</td>\n",
       "      <td>2809.0</td>\n",
       "      <td>32.0</td>\n",
       "      <td>3.0</td>\n",
       "      <td>1.0</td>\n",
       "      <td>1.0</td>\n",
       "      <td>4.0</td>\n",
       "      <td>...</td>\n",
       "      <td>1926330639</td>\n",
       "      <td>537242577</td>\n",
       "      <td>4030630661</td>\n",
       "      <td>568184265</td>\n",
       "      <td>2972002973</td>\n",
       "      <td>2500694465</td>\n",
       "      <td>851920782</td>\n",
       "      <td>796825822</td>\n",
       "      <td>2045441</td>\n",
       "      <td>1238795398</td>\n",
       "    </tr>\n",
       "    <tr>\n",
       "      <th>4</th>\n",
       "      <td>0</td>\n",
       "      <td>1.0</td>\n",
       "      <td>-1.0</td>\n",
       "      <td>0.0</td>\n",
       "      <td>1.0</td>\n",
       "      <td>0.0</td>\n",
       "      <td>1.0</td>\n",
       "      <td>1.0</td>\n",
       "      <td>1.0</td>\n",
       "      <td>0.0</td>\n",
       "      <td>...</td>\n",
       "      <td>4172497942</td>\n",
       "      <td>3569056728</td>\n",
       "      <td>4248377849</td>\n",
       "      <td>568184265</td>\n",
       "      <td>1480633834</td>\n",
       "      <td>4091401497</td>\n",
       "      <td>974593739</td>\n",
       "      <td>3008311592</td>\n",
       "      <td>1917519066</td>\n",
       "      <td>2858355221</td>\n",
       "    </tr>\n",
       "  </tbody>\n",
       "</table>\n",
       "<p>5 rows × 35 columns</p>\n",
       "</div>"
      ],
      "text/plain": [
       "   Label   I1    I2   I4       I5     I6    I7  I10  I11  I13  ...  \\\n",
       "0      1  1.0  87.5  4.0  24847.5  208.0   1.0  1.0  1.0  4.0  ...   \n",
       "1      0  1.0  68.0  4.0   4177.0   53.0  24.0  1.0  6.0  4.0  ...   \n",
       "2      0  1.0  55.0  8.0     21.0   32.0   0.0  1.0  0.0  6.0  ...   \n",
       "3      0  1.0  -1.0  4.0   2809.0   32.0   3.0  1.0  1.0  4.0  ...   \n",
       "4      0  1.0  -1.0  0.0      1.0    0.0   1.0  1.0  1.0  0.0  ...   \n",
       "\n",
       "          C16         C17         C18        C19         C20         C21  \\\n",
       "0  2706241271   512280399   135613171  568184265  1480633834  3891316444   \n",
       "1  3548315276   881205885  2650054349  568184265  1480633834  3054605081   \n",
       "2  2223606570  2003624857  1478578923  568184265  1480633834     1360682   \n",
       "3  1926330639   537242577  4030630661  568184265  2972002973  2500694465   \n",
       "4  4172497942  3569056728  4248377849  568184265  1480633834  4091401497   \n",
       "\n",
       "          C23         C24         C25         C26  \n",
       "0   851920782  1043370398  4116448438   804119890  \n",
       "1  3686041303  1168872648  3406273581  2973715166  \n",
       "2   974593739  1071331371     2045441  2858355221  \n",
       "3   851920782   796825822     2045441  1238795398  \n",
       "4   974593739  3008311592  1917519066  2858355221  \n",
       "\n",
       "[5 rows x 35 columns]"
      ]
     },
     "execution_count": 45,
     "metadata": {},
     "output_type": "execute_result"
    }
   ],
   "source": [
    "# loading the cleaned dataset from parquet format\n",
    "data_no_missing_values = spark.read.parquet(\"dataset_no_missing_values\")\n",
    "\n",
    "# displaying the first few rows of the cleaned dataset\n",
    "data_no_missing_values.limit(5).toPandas()"
   ]
  },
  {
   "cell_type": "markdown",
   "id": "5b0cf8d2-a370-4bc7-9d92-d720c15d4cb3",
   "metadata": {},
   "source": [
    "**Podział zbioru na zbióry treningowy oraz walidacyjny**"
   ]
  },
  {
   "cell_type": "code",
   "execution_count": 46,
   "id": "34b5bcd3-7776-43a3-a41e-52918e9a408e",
   "metadata": {},
   "outputs": [],
   "source": [
    "train_data, val_data = data_no_missing_values.randomSplit([0.8, 0.2], seed=42)\n",
    "train_data_pd = train_data.toPandas()\n",
    "\n",
    "X_train = train_data.drop('Label')\n",
    "y_train = train_data.select('Label')\n",
    "\n",
    "X_train_pd = train_data_pd.drop(columns= ['Label'])\n",
    "y_train_pd = train_data_pd['Label']"
   ]
  },
  {
   "cell_type": "markdown",
   "id": "9b722e62-a199-4968-a503-e3788902ad9b",
   "metadata": {},
   "source": [
    "**Zbalansowanie danych z wykorzystaniem SMOTE**"
   ]
  },
  {
   "cell_type": "code",
   "execution_count": 47,
   "id": "9a7c1215-81c8-4092-bcef-7f371a6a3bc7",
   "metadata": {},
   "outputs": [
    {
     "name": "stdout",
     "output_type": "stream",
     "text": [
      "We're using' a sample of 1830610 records for SMOTE\n"
     ]
    }
   ],
   "source": [
    "print(f\"We're using' a sample of {X_train_pd.shape[0]} records for SMOTE\")\n",
    "smote = SMOTE(k_neighbors=3, sampling_strategy=1.0, random_state=42)\n",
    "X_train_smote, y_train_smote = smote.fit_resample(X_train_pd, y_train_pd)\n",
    "\n",
    "data_balanced_pd = pd.DataFrame(X_train_smote, columns= X_train_pd.columns)\n",
    "data_balanced_pd['Label'] = y_train_smote\n",
    "\n",
    "data_balanced = spark.createDataFrame(data_balanced_pd)"
   ]
  },
  {
   "cell_type": "code",
   "execution_count": 50,
   "id": "c157f825-9598-40d8-9c5c-6bafeff2d745",
   "metadata": {},
   "outputs": [
    {
     "data": {
      "image/png": "[encoded data removed]",
      "text/plain": [
       "<Figure size 600x400 with 1 Axes>"
      ]
     },
     "metadata": {},
     "output_type": "display_data"
    },
    {
     "name": "stdout",
     "output_type": "stream",
     "text": [
      "Percentage class distribution after SMOTE:\n",
      " Label\n",
      "0    50.0\n",
      "1    50.0\n",
      "Name: proportion, dtype: float64\n"
     ]
    }
   ],
   "source": [
    "plt.figure(figsize=(6,4))\n",
    "# data_balanced_pd['Label'].value_counts().plot(kind='bar', colorbar= 'teal')\n",
    "data_balanced_pd['Label'].value_counts().plot(kind='bar', color='teal')\n",
    "plt.title('Class distribution after SMOTE')\n",
    "plt.xlabel('Label')\n",
    "plt.ylabel('Count')\n",
    "plt.grid(True)\n",
    "plt.show()\n",
    "\n",
    "class_distribution = data_balanced_pd['Label'].value_counts(normalize=True) * 100\n",
    "print(\"Percentage class distribution after SMOTE:\\n\", class_distribution)"
   ]
  },
  {
   "cell_type": "markdown",
   "id": "8c9cd02b-d296-4334-b636-d182aed39368",
   "metadata": {},
   "source": [
    "**Standaryzacja i PCA**"
   ]
  },
  {
   "cell_type": "code",
   "execution_count": 51,
   "id": "d0a57c98-afd1-4076-91a6-2bd89b830a68",
   "metadata": {},
   "outputs": [],
   "source": [
    "numeric_cols = [col for col in data_balanced.columns if col != \"Label\"]  \n",
    "assembler = VectorAssembler(inputCols=numeric_cols, outputCol=\"features\")\n",
    "\n",
    "\n",
    "scaler = StandardScaler(inputCol=\"features\", \n",
    "                             outputCol=\"scaledFeatures\",\n",
    "                             withStd=True, \n",
    "                             withMean=True)"
   ]
  },
  {
   "cell_type": "code",
   "execution_count": 52,
   "id": "a779ee16-434d-48c7-83bf-dde3bf9c3354",
   "metadata": {},
   "outputs": [],
   "source": [
    "pipeline_pca = Pipeline(stages=[assembler, scaler])\n",
    "scaler_model = pipeline_pca.fit(data_balanced) \n",
    "scaled_data= scaler_model.transform(data_balanced) "
   ]
  },
  {
   "cell_type": "code",
   "execution_count": 53,
   "id": "e8a352b3-f539-4f11-b889-e30084e6dd13",
   "metadata": {},
   "outputs": [],
   "source": [
    "num_features = len(numeric_cols)\n",
    "pca_model_selection= PCA(k=num_features, inputCol=\"scaledFeatures\", outputCol=\"pcaFeatures\").fit(scaled_data)\n",
    "\n",
    "explained_variance = pca_model_selection.explainedVariance\n",
    "cumulative_variance = []\n",
    "total_variance = 0.0\n",
    "for variance in explained_variance:\n",
    "    total_variance += float(variance)\n",
    "    cumulative_variance.append(total_variance)"
   ]
  },
  {
   "cell_type": "code",
   "execution_count": 54,
   "id": "6ed4e788-7dd8-404a-972b-43888bf3f4e1",
   "metadata": {
    "scrolled": true
   },
   "outputs": [
    {
     "name": "stdout",
     "output_type": "stream",
     "text": [
      "34\n"
     ]
    }
   ],
   "source": [
    "print(len(cumulative_variance))"
   ]
  },
  {
   "cell_type": "code",
   "execution_count": 55,
   "id": "25c4c512-fd3c-44ab-9df1-d22a7765967a",
   "metadata": {},
   "outputs": [
    {
     "name": "stdout",
     "output_type": "stream",
     "text": [
      "Dobrana liczba komponentów (k): 27\n",
      "Sumaryczna wyjaśnialność wariancji: 0.9113\n"
     ]
    }
   ],
   "source": [
    "best_k = next(i + 1 for i, cum_var in enumerate(cumulative_variance) if cum_var >= 0.90)\n",
    "# best_k = 28 # około 90% wyjaśnialności, dla 30 komponentów było 95% \n",
    "\n",
    "print(f\"Dobrana liczba komponentów (k): {best_k}\")\n",
    "print(f\"Sumaryczna wyjaśnialność wariancji: {cumulative_variance[best_k - 1]:.4f}\")"
   ]
  },
  {
   "cell_type": "code",
   "execution_count": 56,
   "id": "5d3522b6-531a-46da-8346-9309a7c66f1c",
   "metadata": {},
   "outputs": [],
   "source": [
    "pca = PCA(k=best_k, inputCol=\"scaledFeatures\", outputCol=\"pcaFeatures\")  # k=10 oznacza 10 głównych komponentów"
   ]
  },
  {
   "cell_type": "markdown",
   "id": "8826ada7-7672-47d9-9672-4cca11b893e4",
   "metadata": {},
   "source": [
    "**Trening modelu z regularyzacją**"
   ]
  },
  {
   "cell_type": "code",
   "execution_count": 57,
   "id": "1aee9e1f-2c00-434b-aab6-f14af6c4409a",
   "metadata": {},
   "outputs": [],
   "source": [
    "lr = LogisticRegression(featuresCol=\"pcaFeatures\", labelCol=\"Label\", elasticNetParam= 0.0, regParam=0.01)\n",
    "pipeline = Pipeline(stages=[assembler, scaler, pca, lr])"
   ]
  },
  {
   "cell_type": "code",
   "execution_count": 58,
   "id": "f471b617-c832-44e1-b4b2-d1c0c86ac8ab",
   "metadata": {},
   "outputs": [],
   "source": [
    "model = pipeline.fit(data_balanced) "
   ]
  },
  {
   "cell_type": "code",
   "execution_count": 59,
   "id": "6efabf19-6eec-4893-b238-e2c68e3df962",
   "metadata": {},
   "outputs": [
    {
     "name": "stdout",
     "output_type": "stream",
     "text": [
      "Model coefficients: [-0.3453217605143408,-0.2823403048617954,0.13652113357220816,0.1362234871021608,-0.0034554417363960826,0.019028825524014963,-0.09203930867457094,0.05207844257592793,0.013489347650442522,0.031829547239596946,-0.0265095423105597,-0.07577837941623117,0.04681779751513879,-0.008861395646231398,0.013680616232370124,-0.016423207340546392,-0.06595615196322531,-0.010717287989294702,0.023925818595070612,0.019624218632006588,0.06565239846241047,-0.005558152354095433,-0.04872143417983115,-0.02847480719072588,0.006946772941632044,-0.030205268619826725,0.023556177723016183]\n",
      "Model intercept: 0.0042837168089847185\n"
     ]
    }
   ],
   "source": [
    "print(f\"Model coefficients: {model.stages[3].coefficients}\")\n",
    "print(f\"Model intercept: {model.stages[3].intercept}\")"
   ]
  },
  {
   "cell_type": "code",
   "execution_count": 60,
   "id": "aba9dbdf-f27e-46e7-8bca-6550e4a4a3f0",
   "metadata": {},
   "outputs": [
    {
     "name": "stdout",
     "output_type": "stream",
     "text": [
      "Explained Variance by PCA: 0.9112598071428355\n"
     ]
    }
   ],
   "source": [
    "pca_model = model.stages[2]  # model PCA jest na etapie 2 w pipeline\n",
    "print(f\"Explained Variance by PCA: {pca_model.explainedVariance.sum()}\")"
   ]
  },
  {
   "cell_type": "code",
   "execution_count": 61,
   "id": "b753b521-5dbe-4e48-83e0-ceeb8326c0fc",
   "metadata": {},
   "outputs": [],
   "source": [
    "val_predictions = model.transform(val_data)"
   ]
  },
  {
   "cell_type": "code",
   "execution_count": 62,
   "id": "717b712a-5f98-440a-bacd-ed32cf6400ba",
   "metadata": {},
   "outputs": [
    {
     "name": "stdout",
     "output_type": "stream",
     "text": [
      "Validation F1-score: 0.6772\n"
     ]
    }
   ],
   "source": [
    "evaluator = MulticlassClassificationEvaluator(labelCol=\"Label\", predictionCol=\"prediction\", metricName=\"f1\")\n",
    "f1_score = evaluator.evaluate(val_predictions)\n",
    "print(f\"Validation F1-score: {f1_score:.4f}\")"
   ]
  },
  {
   "cell_type": "code",
   "execution_count": 63,
   "id": "b9c1c44f-ffe9-4480-9542-1cf11def3afb",
   "metadata": {},
   "outputs": [
    {
     "name": "stdout",
     "output_type": "stream",
     "text": [
      "Validation Accuracy: 0.6576\n"
     ]
    }
   ],
   "source": [
    "evaluator = MulticlassClassificationEvaluator(labelCol=\"Label\", predictionCol=\"prediction\", metricName=\"accuracy\")\n",
    "accuracy = evaluator.evaluate(val_predictions)\n",
    "print(f\"Validation Accuracy: {accuracy:.4f}\")"
   ]
  },
  {
   "cell_type": "markdown",
   "id": "b5f37332-8cf4-4f11-b878-d5c0ce5fb0cb",
   "metadata": {},
   "source": [
    "**Ewaluacja wyników**"
   ]
  },
  {
   "cell_type": "code",
   "execution_count": 64,
   "id": "4c308c8f-cebd-44b7-a5b4-b0218b2a9be6",
   "metadata": {},
   "outputs": [],
   "source": [
    "def evaluate_stage(\n",
    "    train_df, \n",
    "    val_df, \n",
    "    label_col=\"Label\", \n",
    "    features_col=\"features\", \n",
    "    input_cols=None, \n",
    "    model=None\n",
    "):\n",
    "    if model is None:\n",
    "        model = LogisticRegression(featuresCol=features_col, labelCol=label_col)\n",
    "\n",
    "    if input_cols and features_col not in train_df.columns:\n",
    "        assembler = VectorAssembler(inputCols=input_cols, outputCol=features_col)\n",
    "        train_df = assembler.transform(train_df)\n",
    "        val_df = assembler.transform(val_df)\n",
    "\n",
    "    model_fitted = model.fit(train_df)\n",
    "    pred = model_fitted.transform(val_df)\n",
    "\n",
    "    evaluator_f1 = MulticlassClassificationEvaluator(labelCol=label_col, predictionCol=\"prediction\", metricName=\"f1\")\n",
    "    evaluator_acc = MulticlassClassificationEvaluator(labelCol=label_col, predictionCol=\"prediction\", metricName=\"accuracy\")\n",
    "    f1 = evaluator_f1.evaluate(pred)\n",
    "    acc = evaluator_acc.evaluate(pred)\n",
    "    return f1, acc\n"
   ]
  },
  {
   "cell_type": "code",
   "execution_count": 65,
   "id": "2268a9da-7919-402c-844f-f0879b07efb7",
   "metadata": {},
   "outputs": [],
   "source": [
    "results = []\n",
    "\n",
    "# 0. before any processing\n",
    "data_raw = data.na.drop()\n",
    "train_data_raw, val_data_raw = data_raw.randomSplit([0.8, 0.2], seed=42)\n",
    "\n",
    "f1_initial, acc_initial = evaluate_stage(\n",
    "    train_data_raw,\n",
    "    val_data_raw,\n",
    "    input_cols=[col for col in train_data.columns if col != 'Label']\n",
    ")\n",
    "results.append((\"Initial Data\", f1_initial, acc_initial))"
   ]
  },
  {
   "cell_type": "code",
   "execution_count": 66,
   "id": "c3d3c274",
   "metadata": {},
   "outputs": [],
   "source": [
    "# 1. after removing outliers and missing values\n",
    "f1_imp, acc_imp = evaluate_stage(\n",
    "    train_data,\n",
    "    val_data,\n",
    "    input_cols=[col for col in train_data.columns if col != 'Label']\n",
    ")\n",
    "results.append((\"Cleaned data\", f1_imp, acc_imp))\n"
   ]
  },
  {
   "cell_type": "code",
   "execution_count": 67,
   "id": "c44621d6-b115-406c-871a-c47b08d6c62d",
   "metadata": {},
   "outputs": [],
   "source": [
    "# 2. after balancing with SMOTE\n",
    "f1_smote, acc_smote = evaluate_stage(\n",
    "    data_balanced,\n",
    "    val_data,\n",
    "    input_cols=[col for col in data_balanced.columns if col != 'Label']\n",
    ")\n",
    "results.append((\"Data balanced with SMOTE\", f1_smote, acc_smote))\n"
   ]
  },
  {
   "cell_type": "code",
   "execution_count": 68,
   "id": "1852c5c2-e110-400c-a587-fdd45974deff",
   "metadata": {},
   "outputs": [],
   "source": [
    "# 3. after PCA \n",
    "pipeline_pca = Pipeline(stages=[assembler, scaler, pca])#na data no missing values\n",
    "pipeline_pca_model = pipeline_pca.fit(data_balanced)\n",
    "\n",
    "train_pca = pipeline_pca_model.transform(data_balanced)\n",
    "val_pca = pipeline_pca_model.transform(val_data)\n",
    "\n",
    "f1_pca, acc_pca = evaluate_stage(\n",
    "    train_pca,\n",
    "    val_pca,\n",
    "    input_cols=[], \n",
    "    features_col=\"pcaFeatures\"\n",
    ")\n",
    "results.append((\"Data reduced with PCA\", f1_pca, acc_pca))\n"
   ]
  },
  {
   "cell_type": "code",
   "execution_count": 69,
   "id": "f041a4a5-fc8c-489d-b1b9-1983cc28c7bd",
   "metadata": {},
   "outputs": [
    {
     "name": "stdout",
     "output_type": "stream",
     "text": [
      "Summary evaluation (F1, Accuracy):\n",
      "Initial Data: F1 = 0.6181, Accuracy = 0.6974\n",
      "Cleaned data: F1 = 0.6995, Accuracy = 0.7553\n",
      "Data balanced with SMOTE: F1 = 0.6806, Accuracy = 0.6613\n",
      "Data reduced with PCA: F1 = 0.6772, Accuracy = 0.6576\n"
     ]
    }
   ],
   "source": [
    "print(\"Summary evaluation (F1, Accuracy):\")\n",
    "for stage, f1, acc in results:\n",
    "    print(f\"{stage}: F1 = {f1:.4f}, Accuracy = {acc:.4f}\")"
   ]
  },
  {
   "cell_type": "markdown",
   "id": "0ea56aa2-0971-490b-924f-ca0685b86708",
   "metadata": {},
   "source": [
    "**Predykcja na zbiorze testowym**"
   ]
  },
  {
   "cell_type": "markdown",
   "id": "4c9383ee-5c34-4189-a291-b34a7112dbf4",
   "metadata": {},
   "source": [
    "Przygotowanie danych testowych"
   ]
  },
  {
   "cell_type": "code",
   "execution_count": 70,
   "id": "e6c3b70e-9106-40be-9e41-f06696c88d99",
   "metadata": {},
   "outputs": [
    {
     "name": "stdout",
     "output_type": "stream",
     "text": [
      "root\n",
      " |-- I1: integer (nullable = true)\n",
      " |-- I2: integer (nullable = true)\n",
      " |-- I3: integer (nullable = true)\n",
      " |-- I4: integer (nullable = true)\n",
      " |-- I5: integer (nullable = true)\n",
      " |-- I6: integer (nullable = true)\n",
      " |-- I7: integer (nullable = true)\n",
      " |-- I8: integer (nullable = true)\n",
      " |-- I9: integer (nullable = true)\n",
      " |-- I10: integer (nullable = true)\n",
      " |-- I11: integer (nullable = true)\n",
      " |-- I12: integer (nullable = true)\n",
      " |-- I13: integer (nullable = true)\n",
      " |-- C1: string (nullable = true)\n",
      " |-- C2: string (nullable = true)\n",
      " |-- C3: string (nullable = true)\n",
      " |-- C4: string (nullable = true)\n",
      " |-- C5: string (nullable = true)\n",
      " |-- C6: string (nullable = true)\n",
      " |-- C7: string (nullable = true)\n",
      " |-- C8: string (nullable = true)\n",
      " |-- C9: string (nullable = true)\n",
      " |-- C10: string (nullable = true)\n",
      " |-- C11: string (nullable = true)\n",
      " |-- C12: string (nullable = true)\n",
      " |-- C13: string (nullable = true)\n",
      " |-- C14: string (nullable = true)\n",
      " |-- C15: string (nullable = true)\n",
      " |-- C16: string (nullable = true)\n",
      " |-- C17: string (nullable = true)\n",
      " |-- C18: string (nullable = true)\n",
      " |-- C19: string (nullable = true)\n",
      " |-- C20: string (nullable = true)\n",
      " |-- C21: string (nullable = true)\n",
      " |-- C22: string (nullable = true)\n",
      " |-- C23: string (nullable = true)\n",
      " |-- C24: string (nullable = true)\n",
      " |-- C25: string (nullable = true)\n",
      " |-- C26: string (nullable = true)\n",
      "\n",
      "Liczba wierszy: 6042135\n"
     ]
    }
   ],
   "source": [
    "columns = [\"I1\", \"I2\", \"I3\", \"I4\", \"I5\", \"I6\", \"I7\", \"I8\", \"I9\", \n",
    "           \"I10\", \"I11\", \"I12\", \"I13\", \"C1\", \"C2\", \"C3\", \"C4\", \"C5\", \"C6\", \n",
    "           \"C7\", \"C8\", \"C9\", \"C10\", \"C11\", \"C12\", \"C13\", \"C14\", \"C15\", \"C16\", \n",
    "           \"C17\", \"C18\", \"C19\", \"C20\", \"C21\", \"C22\", \"C23\", \"C24\", \"C25\", \"C26\"]\n",
    "\n",
    "df_test = (\n",
    "    spark.read\n",
    "    .option(\"sep\", \"\\t\") \n",
    "    .option(\"inferSchema\", \"true\")  \n",
    "    .csv(\"../Dane/criteo-dataset/dac/test.txt\") \n",
    ")\n",
    "\n",
    "df_test = df_test.toDF(*columns)\n",
    "\n",
    "df_test.printSchema()\n",
    "\n",
    "print(f\"Liczba wierszy: {df_test.count()}\")"
   ]
  },
  {
   "cell_type": "code",
   "execution_count": 71,
   "id": "f42c3edb-8c95-48ca-ba0e-aa1e4151ef27",
   "metadata": {},
   "outputs": [],
   "source": [
    "df_test.write.mode(\"overwrite\").parquet(\"output_perquet_test\")"
   ]
  },
  {
   "cell_type": "code",
   "execution_count": 72,
   "id": "098ba01b-6976-4604-9492-2d144acef029",
   "metadata": {},
   "outputs": [],
   "source": [
    "data_test = spark.read.parquet(\"output_perquet_test\")"
   ]
  },
  {
   "cell_type": "code",
   "execution_count": 75,
   "id": "e458faa6-fb3c-4e30-8b99-7ca56274eea2",
   "metadata": {},
   "outputs": [
    {
     "name": "stdout",
     "output_type": "stream",
     "text": [
      "root\n",
      " |-- Label: integer (nullable = true)\n",
      " |-- I1: integer (nullable = true)\n",
      " |-- I2: integer (nullable = true)\n",
      " |-- I3: integer (nullable = true)\n",
      " |-- I4: integer (nullable = true)\n",
      " |-- I5: integer (nullable = true)\n",
      " |-- I6: integer (nullable = true)\n",
      " |-- I7: integer (nullable = true)\n",
      " |-- I8: integer (nullable = true)\n",
      " |-- I9: integer (nullable = true)\n",
      " |-- I10: integer (nullable = true)\n",
      " |-- I11: integer (nullable = true)\n",
      " |-- I12: integer (nullable = true)\n",
      " |-- I13: integer (nullable = true)\n",
      " |-- C1: long (nullable = true)\n",
      " |-- C2: long (nullable = true)\n",
      " |-- C3: long (nullable = true)\n",
      " |-- C4: long (nullable = true)\n",
      " |-- C5: long (nullable = true)\n",
      " |-- C6: long (nullable = true)\n",
      " |-- C7: long (nullable = true)\n",
      " |-- C8: long (nullable = true)\n",
      " |-- C9: long (nullable = true)\n",
      " |-- C10: long (nullable = true)\n",
      " |-- C11: long (nullable = true)\n",
      " |-- C12: long (nullable = true)\n",
      " |-- C13: long (nullable = true)\n",
      " |-- C14: long (nullable = true)\n",
      " |-- C15: long (nullable = true)\n",
      " |-- C16: long (nullable = true)\n",
      " |-- C17: long (nullable = true)\n",
      " |-- C18: long (nullable = true)\n",
      " |-- C19: long (nullable = true)\n",
      " |-- C20: long (nullable = true)\n",
      " |-- C21: long (nullable = true)\n",
      " |-- C22: long (nullable = true)\n",
      " |-- C23: long (nullable = true)\n",
      " |-- C24: long (nullable = true)\n",
      " |-- C25: long (nullable = true)\n",
      " |-- C26: long (nullable = true)\n",
      "\n"
     ]
    }
   ],
   "source": [
    "for column in data_test.columns:\n",
    "    if dict(data_test.dtypes)[column] == 'string':\n",
    "        data_test = data_test.withColumn(\n",
    "            column,\n",
    "            when(trim(col(column)).rlike('^[0-9A-Fa-f]+$'), conv(trim(col(column)), 16, 10).cast(LongType()))\n",
    "            .otherwise(None)  \n",
    "        )\n",
    "data.printSchema()"
   ]
  },
  {
   "cell_type": "code",
   "execution_count": 76,
   "id": "ddd2d2cf-fc8f-4734-b430-451bd12374f4",
   "metadata": {},
   "outputs": [],
   "source": [
    "columns_to_drop = ['I12', 'C22']\n",
    "columns_strongly_correlated = ['I3', 'I8', 'I9']"
   ]
  },
  {
   "cell_type": "code",
   "execution_count": 77,
   "id": "0f6c3417-548a-4eaa-97c3-692ec4d20684",
   "metadata": {},
   "outputs": [
    {
     "name": "stdout",
     "output_type": "stream",
     "text": [
      "['I1', 'I2', 'I4', 'I5', 'I6', 'I7', 'I10', 'I11', 'I13', 'C1', 'C2', 'C3', 'C4', 'C5', 'C6', 'C7', 'C8', 'C9', 'C10', 'C11', 'C12', 'C13', 'C14', 'C15', 'C16', 'C17', 'C18', 'C19', 'C20', 'C21', 'C23', 'C24', 'C25', 'C26']\n"
     ]
    }
   ],
   "source": [
    "columns_to_drop_all = columns_to_drop + columns_strongly_correlated # z korelacji\n",
    "data_cleaned_test = data_test.drop(*columns_to_drop_all)\n",
    "data_cleaned_test = data_cleaned_test.na.drop(how=\"all\")\n",
    "print(data_cleaned_test.columns)"
   ]
  },
  {
   "cell_type": "code",
   "execution_count": 78,
   "id": "606936e4-c6f8-42ad-a116-92cab557bff9",
   "metadata": {},
   "outputs": [
    {
     "name": "stdout",
     "output_type": "stream",
     "text": [
      "\n",
      "Method: IQR, Action: CAP\n"
     ]
    }
   ],
   "source": [
    "numeric_cols_test = [col_name for col_name, dtype in data_cleaned_test.dtypes if dtype in (\"int\", \"double\", \"float\")]\n",
    "# report_outliers_dual(data_cleaned, numeric_cols)\n",
    "\n",
    "data_no_outliers_test = generate_outlier_handling_datasets(data_cleaned_test, numeric_cols_test)"
   ]
  },
  {
   "cell_type": "code",
   "execution_count": 79,
   "id": "cd8b52cd-cbba-4020-8bd5-62e7c0bf2d9f",
   "metadata": {},
   "outputs": [
    {
     "name": "stdout",
     "output_type": "stream",
     "text": [
      "\n",
      "--- Imputing Dataset: iqr_cap ---\n"
     ]
    }
   ],
   "source": [
    "columns_to_imputate = ['I1', 'I3', 'I4', 'I5', 'I6', 'I7', 'I8', 'I9', 'I10', 'I11', 'I13', 'C3', 'C4', 'C6', 'C12', 'C16', 'C19', 'C20', 'C21', 'C24', 'C25', 'C26']\n",
    "\n",
    "data_no_missing_values_test= impute_all_datasets(data_no_outliers_test, columns_to_imputate)"
   ]
  },
  {
   "cell_type": "code",
   "execution_count": 81,
   "id": "57e9e25c-9fd7-479e-a11f-b3112bd273d2",
   "metadata": {},
   "outputs": [
    {
     "name": "stdout",
     "output_type": "stream",
     "text": [
      "['I1', 'I2', 'I4', 'I5', 'I6', 'I7', 'I10', 'I11', 'I13', 'C1', 'C2', 'C3', 'C4', 'C5', 'C6', 'C7', 'C8', 'C9', 'C10', 'C11', 'C12', 'C13', 'C14', 'C15', 'C16', 'C17', 'C18', 'C19', 'C20', 'C21', 'C23', 'C24', 'C25', 'C26']\n"
     ]
    }
   ],
   "source": [
    "print(data_no_missing_values_test[\"iqr_cap\"].columns)"
   ]
  },
  {
   "cell_type": "code",
   "execution_count": 83,
   "id": "abbd3658-4d5e-49a4-8c90-9bf7281547fd",
   "metadata": {},
   "outputs": [],
   "source": [
    "data_no_missing_values_test[\"iqr_cap\"].write.mode(\"overwrite\").parquet(\"data_no_missing_values_test\")"
   ]
  },
  {
   "cell_type": "code",
   "execution_count": 84,
   "id": "c55468ed-1b62-46a2-8bff-2ad499673a7d",
   "metadata": {},
   "outputs": [],
   "source": [
    "data_no_missing_values_test = spark.read.parquet(\"data_no_missing_values_test\")"
   ]
  },
  {
   "cell_type": "code",
   "execution_count": 85,
   "id": "9539f64f-28aa-48ba-bddd-aabedec947a6",
   "metadata": {},
   "outputs": [
    {
     "name": "stdout",
     "output_type": "stream",
     "text": [
      "['I1', 'I2', 'I4', 'I5', 'I6', 'I7', 'I10', 'I11', 'I13', 'C1', 'C2', 'C3', 'C4', 'C5', 'C6', 'C7', 'C8', 'C9', 'C10', 'C11', 'C12', 'C13', 'C14', 'C15', 'C16', 'C17', 'C18', 'C19', 'C20', 'C21', 'C23', 'C24', 'C25', 'C26']\n"
     ]
    }
   ],
   "source": [
    "print(data_no_missing_values_test.columns)"
   ]
  },
  {
   "cell_type": "code",
   "execution_count": 86,
   "id": "4387b88c-072c-40ec-b66f-7eb7431364a9",
   "metadata": {},
   "outputs": [
    {
     "name": "stdout",
     "output_type": "stream",
     "text": [
      "+--------------------+----------+\n",
      "|            features|prediction|\n",
      "+--------------------+----------+\n",
      "|[1.0,29.0,5.0,726...|       0.0|\n",
      "|[7.5,17.0,22.0,2....|       0.0|\n",
      "|[1.0,1.0,7.0,1.0,...|       1.0|\n",
      "|[4.0,1.0,6.0,1051...|       0.0|\n",
      "|[7.0,1.0,10.0,139...|       1.0|\n",
      "|[7.5,11.0,9.0,316...|       1.0|\n",
      "|[2.0,1.0,4.0,7.0,...|       0.0|\n",
      "|[1.0,0.0,4.0,8906...|       0.0|\n",
      "|[1.0,4.0,5.0,2780...|       0.0|\n",
      "|[7.5,0.0,22.0,457...|       1.0|\n",
      "|[1.0,4.0,20.0,177...|       0.0|\n",
      "|[1.0,52.0,22.0,15...|       0.0|\n",
      "|[1.0,1.0,4.0,2447...|       0.0|\n",
      "|[7.5,18.0,8.0,0.0...|       1.0|\n",
      "|[1.0,2.0,4.0,508....|       0.0|\n",
      "|[1.0,87.5,4.0,244...|       0.0|\n",
      "|[1.0,18.0,8.0,0.0...|       0.0|\n",
      "|[1.0,3.0,4.0,2447...|       0.0|\n",
      "|[7.5,11.0,6.0,2.0...|       1.0|\n",
      "|[1.0,3.0,19.0,244...|       0.0|\n",
      "|[0.0,37.0,5.0,596...|       0.0|\n",
      "|[0.0,43.0,21.0,21...|       0.0|\n",
      "|[1.0,14.0,4.0,131...|       0.0|\n",
      "|[0.0,-1.0,17.0,15...|       0.0|\n",
      "|[0.0,87.5,0.0,466...|       0.0|\n",
      "|[0.0,69.0,15.0,43...|       0.0|\n",
      "|[2.0,87.5,3.0,87....|       1.0|\n",
      "|[2.0,1.0,3.0,1.0,...|       1.0|\n",
      "|[0.0,-1.0,4.0,751...|       0.0|\n",
      "|[1.0,-1.0,4.0,724...|       0.0|\n",
      "|[1.0,2.0,4.0,2780...|       0.0|\n",
      "|[0.0,-1.0,1.0,144...|       1.0|\n",
      "|[1.0,1.0,1.0,1167...|       1.0|\n",
      "|[0.0,-1.0,4.0,192...|       0.0|\n",
      "|[1.0,1.0,1.0,2780...|       0.0|\n",
      "|[0.0,12.0,7.0,193...|       0.0|\n",
      "|[1.0,87.5,1.0,381...|       1.0|\n",
      "|[2.0,31.0,19.0,94...|       1.0|\n",
      "|[0.0,87.5,8.0,162...|       1.0|\n",
      "|[0.0,87.5,0.0,315...|       1.0|\n",
      "|[1.0,20.0,2.0,244...|       0.0|\n",
      "|[0.0,-1.0,4.0,199...|       0.0|\n",
      "|[1.0,87.5,1.0,684...|       1.0|\n",
      "|[0.0,-1.0,4.0,288...|       0.0|\n",
      "|[0.0,-1.0,4.0,110...|       0.0|\n",
      "|[0.0,37.0,15.0,15...|       0.0|\n",
      "|[1.0,87.5,11.0,53...|       0.0|\n",
      "|[3.0,2.0,6.0,492....|       1.0|\n",
      "|[1.0,87.5,18.0,37...|       0.0|\n",
      "|[1.0,87.5,4.0,278...|       0.0|\n",
      "|[2.0,0.0,4.0,275....|       1.0|\n",
      "|[1.0,0.0,2.0,2.0,...|       1.0|\n",
      "|[0.0,-1.0,4.0,358...|       0.0|\n",
      "|[0.0,64.0,0.0,147...|       0.0|\n",
      "|[1.0,1.0,13.0,28....|       0.0|\n",
      "|[3.0,87.5,3.0,228...|       1.0|\n",
      "|[0.0,0.0,0.0,1573...|       1.0|\n",
      "|[1.0,1.0,4.0,2780...|       0.0|\n",
      "|[1.0,87.5,1.0,244...|       0.0|\n",
      "|[1.0,10.0,2.0,570...|       0.0|\n",
      "|[1.0,1.0,2.0,2447...|       0.0|\n",
      "|[1.0,4.0,5.0,46.0...|       1.0|\n",
      "|[4.0,28.0,11.0,0....|       1.0|\n",
      "|[7.0,29.0,22.0,14...|       0.0|\n",
      "|[0.0,87.5,22.0,45...|       0.0|\n",
      "|[1.0,0.0,3.0,6112...|       0.0|\n",
      "|[0.0,1.0,22.0,442...|       0.0|\n",
      "|[0.0,-1.0,12.0,48...|       0.0|\n",
      "|[1.0,87.5,7.0,194...|       1.0|\n",
      "|[2.0,-1.0,4.0,453...|       1.0|\n",
      "|[1.0,0.0,4.0,4396...|       0.0|\n",
      "|[0.0,1.0,8.0,1530...|       0.0|\n",
      "|[1.0,1.0,8.0,1301...|       0.0|\n",
      "|[0.0,87.5,4.0,163...|       0.0|\n",
      "|[0.0,0.0,2.0,728....|       1.0|\n",
      "|[1.0,-1.0,4.0,950...|       1.0|\n",
      "|[1.0,26.0,5.0,433...|       0.0|\n",
      "|[7.5,21.0,7.0,24....|       1.0|\n",
      "|[0.0,-1.0,4.0,309...|       0.0|\n",
      "|[1.0,-1.0,4.0,483...|       0.0|\n",
      "|[1.0,18.0,6.0,875...|       0.0|\n",
      "|[1.0,-1.0,4.0,672...|       0.0|\n",
      "|[1.0,1.0,10.0,165...|       0.0|\n",
      "|[1.0,32.0,15.0,17...|       0.0|\n",
      "|[7.5,9.0,18.0,0.0...|       1.0|\n",
      "|[0.0,14.0,5.0,915...|       1.0|\n",
      "|[0.0,13.0,4.0,99....|       1.0|\n",
      "|[2.0,6.0,4.0,892....|       1.0|\n",
      "|[1.0,87.5,22.0,21...|       0.0|\n",
      "|[1.0,19.0,12.0,15...|       0.0|\n",
      "|[0.0,21.0,2.0,326...|       0.0|\n",
      "|[0.0,6.0,4.0,48.0...|       1.0|\n",
      "|[0.0,68.0,0.0,782...|       1.0|\n",
      "|[1.0,36.0,8.0,109...|       0.0|\n",
      "|[1.0,3.0,2.0,69.0...|       1.0|\n",
      "|[0.0,10.0,1.0,221...|       0.0|\n",
      "|[1.0,1.0,4.0,2447...|       0.0|\n",
      "|[7.0,1.0,0.0,8.0,...|       1.0|\n",
      "|[4.0,64.0,6.0,162...|       1.0|\n",
      "|[0.0,87.5,6.0,442...|       0.0|\n",
      "+--------------------+----------+\n",
      "only showing top 100 rows\n",
      "\n"
     ]
    }
   ],
   "source": [
    "input_cols = model.stages[0].getInputCols()  \n",
    "# print(input_cols)\n",
    "data_no_missing_values_test = data_no_missing_values_test.select(input_cols) \n",
    "\n",
    "test_predictions = model.transform(data_no_missing_values_test)\n",
    "\n",
    "test_predictions.select(\"features\", \"prediction\").show(100)"
   ]
  },
  {
   "cell_type": "code",
   "execution_count": 87,
   "id": "430c4c1e-f403-4aea-87ea-45609f5cf0a3",
   "metadata": {},
   "outputs": [
    {
     "name": "stdout",
     "output_type": "stream",
     "text": [
      "Prediction percantage == 1: 41.80%\n"
     ]
    }
   ],
   "source": [
    "result = test_predictions.agg(\n",
    "    (F.count(F.when(F.col(\"prediction\") == 1, 1)) / F.count(\"*\") * 100).alias(\"percentage_1\")\n",
    ").collect()[0][\"percentage_1\"]\n",
    "\n",
    "print(f\"Prediction percantage == 1: {result:.2f}%\")"
   ]
  }
 ],
 "metadata": {
  "kernelspec": {
   "display_name": "Python 3 (ipykernel)",
   "language": "python",
   "name": "python3"
  },
  "language_info": {
   "codemirror_mode": {
    "name": "ipython",
    "version": 3
   },
   "file_extension": ".py",
   "mimetype": "text/x-python",
   "name": "python",
   "nbconvert_exporter": "python",
   "pygments_lexer": "ipython3",
   "version": "3.11.6"
  }
 },
 "nbformat": 4,
 "nbformat_minor": 5
}
