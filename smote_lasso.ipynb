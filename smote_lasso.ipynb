{
 "cells": [
  {
   "cell_type": "code",
   "execution_count": null,
   "id": "c653b13f-df4d-46cb-93cf-07da24fb2fd0",
   "metadata": {},
   "outputs": [],
   "source": [
    "# !pip install imblearn"
   ]
  },
  {
   "cell_type": "code",
   "execution_count": 1,
   "id": "c5681f1c",
   "metadata": {},
   "outputs": [],
   "source": [
    "from pyspark.sql import SparkSession\n",
    "from pyspark.sql import functions as F\n",
    "import matplotlib.pyplot as plt\n",
    "import seaborn as sns\n",
    "import pandas as pd\n",
    "import numpy as np"
   ]
  },
  {
   "cell_type": "code",
   "execution_count": 2,
   "id": "97566ae8-c457-4633-b878-eb8cb531b7ff",
   "metadata": {},
   "outputs": [
    {
     "data": {
      "text/html": [
       "\n",
       "            <div>\n",
       "                <p><b>SparkSession - in-memory</b></p>\n",
       "                \n",
       "        <div>\n",
       "            <p><b>SparkContext</b></p>\n",
       "\n",
       "            <p><a href=\"http://4eb5d20eb5d7:4041\">Spark UI</a></p>\n",
       "\n",
       "            <dl>\n",
       "              <dt>Version</dt>\n",
       "                <dd><code>v3.5.0</code></dd>\n",
       "              <dt>Master</dt>\n",
       "                <dd><code>local[*]</code></dd>\n",
       "              <dt>AppName</dt>\n",
       "                <dd><code>pyspark-shell</code></dd>\n",
       "            </dl>\n",
       "        </div>\n",
       "        \n",
       "            </div>\n",
       "        "
      ],
      "text/plain": [
       "<pyspark.sql.session.SparkSession at 0x7a1defcb2ad0>"
      ]
     },
     "execution_count": 2,
     "metadata": {},
     "output_type": "execute_result"
    }
   ],
   "source": [
    "# building spark session\n",
    "spark = SparkSession.builder \\\n",
    "    .master(\"local[*]\") \\\n",
    "    .config(\"spark.driver.memory\", \"30g\") \\\n",
    "    .config(\"spark.driver.maxResultSize\", \"0\") \\\n",
    "    .config(\"spark.local.dir\", \"/tmp/spark-temp\") \\\n",
    "    .config(\"spark.memory.fraction\", \"0.8\") \\\n",
    "    .config(\"spark.memory.storageFraction\", \"0.3\") \\\n",
    "    .config(\"spark.sql.shuffle.partitions\", \"400\") \\\n",
    "    .getOrCreate()\n",
    "spark"
   ]
  },
  {
   "cell_type": "code",
   "execution_count": 3,
   "id": "3ecaf496",
   "metadata": {},
   "outputs": [],
   "source": [
    "# cleaned data loading\n",
    "data = spark.read.parquet(\"dataset_no_missing_values\")\n",
    "data = data.repartition(64)"
   ]
  },
  {
   "cell_type": "code",
   "execution_count": 4,
   "id": "a6c61edf-7128-4539-a7e3-f214bc5ef860",
   "metadata": {},
   "outputs": [
    {
     "data": {
      "image/png": "[encoded data removed]",
      "text/plain": [
       "<Figure size 600x400 with 1 Axes>"
      ]
     },
     "metadata": {},
     "output_type": "display_data"
    },
    {
     "name": "stdout",
     "output_type": "stream",
     "text": [
      "Percentage distribution of the target:\n",
      " Label\n",
      "0    74.448915\n",
      "1    25.551085\n",
      "Name: proportion, dtype: float64\n"
     ]
    }
   ],
   "source": [
    "# checking the balance of the label\n",
    "y = data.select('Label').toPandas()\n",
    "y = y['Label']\n",
    "\n",
    "plt.figure(figsize=(6,4))\n",
    "y.value_counts().plot(kind='bar', color= 'teal')\n",
    "plt.title('Class distribution of target variable')\n",
    "plt.xlabel('Label')\n",
    "plt.ylabel('Count')\n",
    "plt.grid(True)\n",
    "plt.show()\n",
    "\n",
    "class_distribution = y.value_counts(normalize=True) * 100\n",
    "print(\"Percentage distribution of the target:\\n\", class_distribution)"
   ]
  },
  {
   "cell_type": "markdown",
   "id": "0db0de34-24f5-40a8-83fc-83fd711c8042",
   "metadata": {},
   "source": [
    "**SMOTE**"
   ]
  },
  {
   "cell_type": "code",
   "execution_count": 5,
   "id": "2072520c-7a31-4233-9625-ac0001785a64",
   "metadata": {},
   "outputs": [
    {
     "name": "stdout",
     "output_type": "stream",
     "text": [
      "We're using' a sample of 1830199 records for SMOTE\n"
     ]
    }
   ],
   "source": [
    "from pyspark.ml.feature import VectorAssembler\n",
    "from pyspark.ml.classification import LogisticRegression\n",
    "from pyspark.ml import Pipeline\n",
    "from pyspark.ml.evaluation import MulticlassClassificationEvaluator\n",
    "from imblearn.over_sampling import SMOTE\n",
    "from sklearn.model_selection import train_test_split\n",
    "import pandas as pd\n",
    "\n",
    "train_data, val_data = data.randomSplit([0.8, 0.2], seed=42)\n",
    "train_pd = train_data.toPandas()\n",
    "\n",
    "X_train = train_pd.drop(columns=['Label'])\n",
    "y_train = train_pd['Label']\n",
    "\n",
    "print(f\"We're using' a sample of {X_train.shape[0]} records for SMOTE\")"
   ]
  },
  {
   "cell_type": "code",
   "execution_count": 6,
   "id": "00ea7a75-7f0c-4699-b4ba-5d96b63749e1",
   "metadata": {},
   "outputs": [
    {
     "name": "stdout",
     "output_type": "stream",
     "text": [
      "SMOTE(k=3, strategy=auto): acc=0.6609, roc_auc=0.6993, f1=0.4845\n",
      "SMOTE(k=3, strategy=0.5): acc=0.7474, roc_auc=0.6997, f1=0.3778\n",
      "SMOTE(k=3, strategy=0.75): acc=0.7121, roc_auc=0.6995, f1=0.4619\n",
      "SMOTE(k=3, strategy=1.0): acc=0.6609, roc_auc=0.6993, f1=0.4845\n",
      "SMOTE(k=5, strategy=auto): acc=0.6615, roc_auc=0.6992, f1=0.4844\n",
      "SMOTE(k=5, strategy=0.5): acc=0.7474, roc_auc=0.6997, f1=0.3780\n",
      "SMOTE(k=5, strategy=0.75): acc=0.7122, roc_auc=0.6994, f1=0.4620\n",
      "SMOTE(k=5, strategy=1.0): acc=0.6615, roc_auc=0.6992, f1=0.4844\n",
      "SMOTE(k=7, strategy=auto): acc=0.6613, roc_auc=0.6992, f1=0.4843\n",
      "SMOTE(k=7, strategy=0.5): acc=0.7474, roc_auc=0.6997, f1=0.3779\n",
      "SMOTE(k=7, strategy=0.75): acc=0.7123, roc_auc=0.6994, f1=0.4622\n",
      "SMOTE(k=7, strategy=1.0): acc=0.6613, roc_auc=0.6992, f1=0.4843\n"
     ]
    }
   ],
   "source": [
    "# applying SMOTE with different k_neighbors and sampling strategies to choose the best parameters\n",
    "\n",
    "from pyspark.ml.evaluation import BinaryClassificationEvaluator\n",
    "from sklearn.metrics import f1_score, precision_score, recall_score\n",
    "import pandas as pd\n",
    "\n",
    "results = []\n",
    "\n",
    "k_values = [3, 5, 7]\n",
    "sampling_strategies = ['auto', 0.5, 0.75, 1.0]\n",
    "\n",
    "for k in k_values:\n",
    "    for strategy in sampling_strategies:\n",
    "        try:\n",
    "            # SMOTE\n",
    "            smote = SMOTE(k_neighbors=k, sampling_strategy=strategy, random_state=42)\n",
    "            X_res, y_res = smote.fit_resample(X_train, y_train)\n",
    "\n",
    "            df_res = pd.DataFrame(X_res, columns=X_train.columns)\n",
    "            df_res['Label'] = y_res\n",
    "            df_spark = spark.createDataFrame(df_res)\n",
    "\n",
    "            # logistic regression model\n",
    "            assembler = VectorAssembler(inputCols=X_train.columns.tolist(), outputCol=\"features\")\n",
    "            lr = LogisticRegression(featuresCol=\"features\", labelCol=\"Label\")\n",
    "            pipeline = Pipeline(stages=[assembler, lr])\n",
    "            model = pipeline.fit(df_spark)\n",
    "\n",
    "            # predictions\n",
    "            predictions = model.transform(val_data)\n",
    "\n",
    "            # evaluation metrics\n",
    "            evaluator_acc = MulticlassClassificationEvaluator(labelCol=\"Label\", predictionCol=\"prediction\", metricName=\"accuracy\")\n",
    "            accuracy = evaluator_acc.evaluate(predictions)\n",
    "            \n",
    "            evaluator_f1 = MulticlassClassificationEvaluator(labelCol=\"Label\", predictionCol=\"prediction\", metricName='fMeasureByLabel', metricLabel=1, beta=1.0)\n",
    "            f1 = evaluator_f1.evaluate(predictions)\n",
    "            \n",
    "            evaluator_roc = BinaryClassificationEvaluator(labelCol=\"Label\", rawPredictionCol=\"rawPrediction\", metricName=\"areaUnderROC\")\n",
    "            roc_auc = evaluator_roc.evaluate(predictions)\n",
    "\n",
    "            # df_preds = predictions.select(\"Label\", \"prediction\").toPandas()\n",
    "            # f1 = f1_score(df_preds[\"Label\"], df_preds[\"prediction\"])\n",
    "            # precision = precision_score(df_preds[\"Label\"], df_preds[\"prediction\"])\n",
    "            # recall = recall_score(df_preds[\"Label\"], df_preds[\"prediction\"])\n",
    "\n",
    "            results.append({\n",
    "                'k_neighbors': k,\n",
    "                'sampling_strategy': strategy,\n",
    "                'accuracy': accuracy,\n",
    "                'roc_auc': roc_auc,\n",
    "                'f1_score': f1\n",
    "                # 'precision': precision,\n",
    "                # 'recall': recall\n",
    "            })\n",
    "\n",
    "            print(f\"SMOTE(k={k}, strategy={strategy}): acc={accuracy:.4f}, roc_auc={roc_auc:.4f}, f1={f1:.4f}\")\n",
    "        \n",
    "        except Exception as e:\n",
    "            print(f\"Błąd dla k={k}, strategy={strategy}: {e}\")"
   ]
  },
  {
   "cell_type": "markdown",
   "id": "e6e0d04d-d66a-42b6-b640-bdfa86ab0b1b",
   "metadata": {},
   "source": [
    "**Regularyzacja**"
   ]
  },
  {
   "cell_type": "code",
   "execution_count": 7,
   "id": "0ac5ba77-e88a-4704-8130-b2dcabb0382d",
   "metadata": {},
   "outputs": [
    {
     "name": "stdout",
     "output_type": "stream",
     "text": [
      "Best elasticNetParam: 0.0\n",
      "Best regParam: 0.01\n"
     ]
    }
   ],
   "source": [
    "from pyspark.ml.tuning import ParamGridBuilder, CrossValidator\n",
    "from pyspark.ml.evaluation import BinaryClassificationEvaluator\n",
    "from pyspark.ml.feature import VectorAssembler\n",
    "from pyspark.ml.classification import LogisticRegression\n",
    "from pyspark.ml.evaluation import MulticlassClassificationEvaluator\n",
    "from pyspark.ml import Pipeline\n",
    "from pyspark.sql.functions import col, conv, when, trim\n",
    "from pyspark.sql.types import IntegerType, LongType\n",
    "\n",
    "feature_columns = [col for col in data.columns if col != 'Label']\n",
    "\n",
    "# pipeline for logistic regression\n",
    "assembler = VectorAssembler(inputCols=feature_columns, outputCol=\"features\")\n",
    "lr = LogisticRegression(featuresCol=\"features\", labelCol=\"Label\", maxIter=100)\n",
    "pipeline = Pipeline(stages=[assembler, lr])\n",
    "\n",
    "# grid search for hyperparameters\n",
    "paramGrid = ParamGridBuilder() \\\n",
    "    .addGrid(lr.elasticNetParam, [0.0, 0.5, 1.0]) \\\n",
    "    .addGrid(lr.regParam, [0.01, 0.1, 1.0]) \\\n",
    "    .build()\n",
    "\n",
    "# evaluator\n",
    "\n",
    "# evaluator = MulticlassClassificationEvaluator(labelCol=\"Label\", predictionCol=\"prediction\", metricName=\"accuracy\")\n",
    "evaluator = MulticlassClassificationEvaluator(labelCol=\"Label\", predictionCol=\"prediction\", metricName='fMeasureByLabel', metricLabel=1, beta=1.0)\n",
    "\n",
    "# cross-validation\n",
    "cv = CrossValidator(estimator=pipeline,\n",
    "                    estimatorParamMaps=paramGrid,\n",
    "                    evaluator=evaluator,\n",
    "                    numFolds=3,           \n",
    "                    parallelism=2,       \n",
    "                    seed=42)\n",
    "\n",
    "# training\n",
    "cv_model = cv.fit(train_data)\n",
    "\n",
    "# evaluating the best model\n",
    "best_model = cv_model.bestModel\n",
    "best_lr_model = best_model.stages[-1]  \n",
    "\n",
    "print(f\"Best elasticNetParam: {best_lr_model._java_obj.getElasticNetParam()}\")\n",
    "print(f\"Best regParam: {best_lr_model._java_obj.getRegParam()}\")"
   ]
  },
  {
   "cell_type": "code",
   "execution_count": 8,
   "id": "e82252ac-c5ba-4a75-a2c9-61cddc5b9cb7",
   "metadata": {},
   "outputs": [
    {
     "name": "stdout",
     "output_type": "stream",
     "text": [
      "Model coefficients: [0.062140688942635934,0.0020547872355367925,0.021583126175576853,-1.698701323551772e-05,-0.002689162677298365,0.002980248145497424,0.06996725621840215,0.2041948939122073,-0.07758315623862189,-2.5022187122578865e-11,-2.056316037750919e-11,1.75411130479477e-11,-1.6483799536232757e-11,-6.282076431737122e-11,1.1913491934079018e-11,1.8842986834662598e-11,-6.185432634580977e-11,5.975877452684425e-10,-4.50111188696925e-12,-3.1080714623450447e-12,-2.259992462843265e-11,8.131168089374848e-12,-1.0401327081299466e-10,2.520917951632131e-11,1.486764167305051e-11,7.351310876836031e-11,1.237996096209354e-11,-3.7878429216598885e-11,1.9337446851364984e-10,6.130427369249875e-12,-1.429463645302418e-10,-9.423985333614851e-12,-3.0268487344101185e-11,-2.6293654408681073e-11]\n",
      "Model intercept: -1.954758047569619\n"
     ]
    }
   ],
   "source": [
    "print(f\"Model coefficients: {model.stages[1].coefficients}\")\n",
    "print(f\"Model intercept: {model.stages[1].intercept}\")"
   ]
  },
  {
   "cell_type": "code",
   "execution_count": null,
   "id": "4aeb2097-189e-4bb3-b662-82c37924fd90",
   "metadata": {},
   "outputs": [],
   "source": []
  }
 ],
 "metadata": {
  "kernelspec": {
   "display_name": "Python 3 (ipykernel)",
   "language": "python",
   "name": "python3"
  },
  "language_info": {
   "codemirror_mode": {
    "name": "ipython",
    "version": 3
   },
   "file_extension": ".py",
   "mimetype": "text/x-python",
   "name": "python",
   "nbconvert_exporter": "python",
   "pygments_lexer": "ipython3",
   "version": "3.11.6"
  }
 },
 "nbformat": 4,
 "nbformat_minor": 5
}
