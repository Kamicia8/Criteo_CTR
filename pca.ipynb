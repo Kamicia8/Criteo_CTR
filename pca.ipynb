{
 "cells": [
  {
   "cell_type": "code",
   "execution_count": 1,
   "id": "c653b13f-df4d-46cb-93cf-07da24fb2fd0",
   "metadata": {},
   "outputs": [],
   "source": [
    "from pyspark.sql import SparkSession\n",
    "from pyspark.sql import functions as F\n",
    "import matplotlib.pyplot as plt\n",
    "import seaborn as sns\n",
    "import pandas as pd\n",
    "import numpy as np"
   ]
  },
  {
   "cell_type": "code",
   "execution_count": 2,
   "id": "97566ae8-c457-4633-b878-eb8cb531b7ff",
   "metadata": {},
   "outputs": [
    {
     "data": {
      "text/html": [
       "\n",
       "            <div>\n",
       "                <p><b>SparkSession - in-memory</b></p>\n",
       "                \n",
       "        <div>\n",
       "            <p><b>SparkContext</b></p>\n",
       "\n",
       "            <p><a href=\"http://a2d3e5452553:4041\">Spark UI</a></p>\n",
       "\n",
       "            <dl>\n",
       "              <dt>Version</dt>\n",
       "                <dd><code>v3.5.0</code></dd>\n",
       "              <dt>Master</dt>\n",
       "                <dd><code>local[*]</code></dd>\n",
       "              <dt>AppName</dt>\n",
       "                <dd><code>pyspark-shell</code></dd>\n",
       "            </dl>\n",
       "        </div>\n",
       "        \n",
       "            </div>\n",
       "        "
      ],
      "text/plain": [
       "<pyspark.sql.session.SparkSession at 0x7f434cfba1d0>"
      ]
     },
     "execution_count": 2,
     "metadata": {},
     "output_type": "execute_result"
    }
   ],
   "source": [
    "# building spark session\n",
    "spark = SparkSession.builder \\\n",
    "    .master(\"local[*]\") \\\n",
    "    .config(\"spark.driver.memory\", \"12g\") \\\n",
    "    .config(\"spark.local.dir\", \"spark\") \\\n",
    "    .config(\"spark.serializer\", \"org.apache.spark.serializer.KryoSerializer\") \\\n",
    "    .config(\"spark.memory.fraction\", \"0.8\") \\\n",
    "    .getOrCreate()\n",
    "spark"
   ]
  },
  {
   "cell_type": "code",
   "execution_count": 3,
   "id": "a1a26aeb-e784-4aa6-a1c4-31d20f4e1940",
   "metadata": {},
   "outputs": [
    {
     "name": "stdout",
     "output_type": "stream",
     "text": [
      "Number of rows:\n",
      "2000000\n",
      "\n",
      "Column Names:\n",
      "['Label', 'I1', 'I2', 'I4', 'I5', 'I6', 'I7', 'I10', 'I11', 'I13', 'C1', 'C2', 'C3', 'C4', 'C5', 'C6', 'C7', 'C8', 'C9', 'C10', 'C11', 'C12', 'C13', 'C14', 'C15', 'C16', 'C17', 'C18', 'C19', 'C20', 'C21', 'C23', 'C24', 'C25', 'C26']\n"
     ]
    }
   ],
   "source": [
    "data_cleaned = spark.read.parquet(\"dataset_no_missing_values\")\n",
    "data_cleaned = data_cleaned.repartition(400)\n",
    "\n",
    "print(\"Number of rows:\")\n",
    "print(data_cleaned.count())\n",
    "\n",
    "print(\"\\nColumn Names:\")\n",
    "print(data_cleaned.columns)"
   ]
  },
  {
   "cell_type": "markdown",
   "id": "6ce5b717-3fc9-4fb3-b1a0-e355c06d39bb",
   "metadata": {},
   "source": [
    "## PCA\n"
   ]
  },
  {
   "cell_type": "code",
   "execution_count": 4,
   "id": "0fe1341a-737b-44b3-a93d-8b2bad39f8c9",
   "metadata": {},
   "outputs": [],
   "source": [
    "from pyspark.ml.feature import VectorAssembler, StandardScaler, PCA\n",
    "from pyspark.ml.classification import LogisticRegression\n",
    "from pyspark.ml.evaluation import MulticlassClassificationEvaluator\n",
    "from pyspark.ml import Pipeline\n",
    "from pyspark.sql.functions import col"
   ]
  },
  {
   "cell_type": "markdown",
   "id": "3da9fe0b-62b4-4b15-a187-774d1b521333",
   "metadata": {},
   "source": [
    "Testowanie PCA (do wykonania)"
   ]
  },
  {
   "cell_type": "code",
   "execution_count": 5,
   "id": "f9d02560-0497-4bb3-b8e0-787846b6502c",
   "metadata": {},
   "outputs": [],
   "source": [
    "numeric_cols = [col for col in data_cleaned.columns if col != \"Label\"]  \n",
    "assembler = VectorAssembler(inputCols=numeric_cols, outputCol=\"features\")\n",
    "\n",
    "scaler = StandardScaler(inputCol=\"features\", \n",
    "                             outputCol=\"scaledFeatures\",\n",
    "                             withStd=True, \n",
    "                             withMean=True)\n"
   ]
  },
  {
   "cell_type": "code",
   "execution_count": 6,
   "id": "6e764e46-6897-4474-ac0b-38c52c769608",
   "metadata": {},
   "outputs": [],
   "source": [
    "pipeline_pca = Pipeline(stages=[assembler, scaler])\n",
    "scaler_model = pipeline_pca.fit(data_cleaned)\n",
    "scaled_data= scaler_model.transform(data_cleaned)"
   ]
  },
  {
   "cell_type": "code",
   "execution_count": 7,
   "id": "3f212b63-94b7-45b3-8204-90017153eeab",
   "metadata": {},
   "outputs": [],
   "source": [
    "num_features = len(numeric_cols)\n",
    "pca_model_selection= PCA(k=num_features, inputCol=\"scaledFeatures\", outputCol=\"pcaFeatures\").fit(scaled_data)\n",
    "\n",
    "explained_variance = pca_model_selection.explainedVariance\n",
    "cumulative_variance = []\n",
    "total_variance = 0.0\n",
    "for variance in explained_variance:\n",
    "    total_variance += float(variance)\n",
    "    cumulative_variance.append(total_variance)"
   ]
  },
  {
   "cell_type": "code",
   "execution_count": 8,
   "id": "4f560f78-9cc4-4a6b-94a6-e4dbfa7576f7",
   "metadata": {},
   "outputs": [
    {
     "name": "stdout",
     "output_type": "stream",
     "text": [
      "Threshold: 50% — Components: 12, Cumulative Variance: 0.5008\n",
      "Threshold: 70% — Components: 19, Cumulative Variance: 0.7041\n",
      "Threshold: 80% — Components: 23, Cumulative Variance: 0.8101\n",
      "Threshold: 90% — Components: 27, Cumulative Variance: 0.9092\n",
      "Threshold: 95% — Components: 30, Cumulative Variance: 0.9653\n"
     ]
    }
   ],
   "source": [
    "variance_thresholds = [0.50, 0.70, 0.80, 0.90, 0.95]\n",
    "\n",
    "cumulative_variance = []\n",
    "total = 0.0\n",
    "for variance in explained_variance:\n",
    "    total += float(variance)\n",
    "    cumulative_variance.append(total)\n",
    "\n",
    "for threshold in variance_thresholds:\n",
    "    try:\n",
    "        best_k = next(i + 1 for i, cum_var in enumerate(cumulative_variance) if cum_var >= threshold)\n",
    "        print(f\"Threshold: {int(threshold * 100)}% — Components: {best_k}, Cumulative Variance: {cumulative_variance[best_k - 1]:.4f}\")\n",
    "    except StopIteration:\n",
    "        print(f\"Threshold: {int(threshold * 100)}% — No sufficient components found.\")"
   ]
  },
  {
   "cell_type": "code",
   "execution_count": 9,
   "id": "9b5e9e65-fec6-43f5-88b6-6de6c356a959",
   "metadata": {},
   "outputs": [],
   "source": [
    "train_data, val_data = data_cleaned.randomSplit([0.8, 0.2], seed=42)"
   ]
  },
  {
   "cell_type": "code",
   "execution_count": 10,
   "id": "8d07ccf3-9d44-47ae-b2b6-3aee5afb5495",
   "metadata": {},
   "outputs": [],
   "source": [
    "pca = PCA(k=best_k, inputCol=\"scaledFeatures\", outputCol=\"pcaFeatures\")  # k=10 oznacza 10 głównych komponentów\n",
    "lr = LogisticRegression(featuresCol=\"pcaFeatures\", labelCol=\"Label\")\n",
    "pipeline = Pipeline(stages=[assembler, scaler, pca, lr])"
   ]
  },
  {
   "cell_type": "code",
   "execution_count": 11,
   "id": "664a3394-72c8-4f24-8b08-b0fd09890055",
   "metadata": {},
   "outputs": [],
   "source": [
    "# trenowanie modelu\n",
    "model = pipeline.fit(train_data)"
   ]
  },
  {
   "cell_type": "code",
   "execution_count": 12,
   "id": "4194293e-b12b-4dce-8ff7-18c707360d51",
   "metadata": {},
   "outputs": [
    {
     "name": "stdout",
     "output_type": "stream",
     "text": [
      "Model coefficients: [-0.3055521929575967,0.26427957201809993,-0.12761040303106366,-0.18980362682351065,0.030457231918428085,0.015635035268513914,0.07378748940339769,-0.08393791533699295,-0.04971575947813767,-0.09065013044994139,-0.02031274201551959,-0.0055794188834360344,-0.012305927088685466,0.0036850075320577613,0.0010349753198113953,0.003482738063612042,0.011393980210469,-0.01723397182546998,0.062133004156348655,-0.03024204768073731,-0.05929827721385613,0.023526153211246233,-0.05121736865089754,0.07625639683391355,0.0040133041269579915,0.02395977575907546,0.010037247933088456,-0.02990902560385721,0.09478863455038632,0.004978886034166058]\n",
      "Model intercept: -1.2224296491708242\n"
     ]
    }
   ],
   "source": [
    "print(f\"Model coefficients: {model.stages[3].coefficients}\")\n",
    "print(f\"Model intercept: {model.stages[3].intercept}\")\n"
   ]
  },
  {
   "cell_type": "code",
   "execution_count": 13,
   "id": "ab274438-3626-47f2-8a40-f8a7e92ec3a0",
   "metadata": {},
   "outputs": [
    {
     "name": "stdout",
     "output_type": "stream",
     "text": [
      "Explained Variance by PCA: 0.9652834469691515\n"
     ]
    }
   ],
   "source": [
    "pca_model = model.stages[2]  # model PCA jest na etapie 2 w pipeline\n",
    "print(f\"Explained Variance by PCA: {pca_model.explainedVariance.sum()}\")"
   ]
  },
  {
   "cell_type": "code",
   "execution_count": 14,
   "id": "159c095c-2c96-479c-82ca-cebb90625528",
   "metadata": {},
   "outputs": [],
   "source": [
    "val_predictions = model.transform(val_data)"
   ]
  },
  {
   "cell_type": "code",
   "execution_count": 15,
   "id": "a1e55a3f-4f3f-45eb-b82b-7bf6115d39c1",
   "metadata": {},
   "outputs": [
    {
     "name": "stdout",
     "output_type": "stream",
     "text": [
      "Validation F1-score: 0.6945\n"
     ]
    }
   ],
   "source": [
    "evaluator = MulticlassClassificationEvaluator(labelCol=\"Label\", predictionCol=\"prediction\", metricName=\"f1\")\n",
    "f1_score = evaluator.evaluate(val_predictions)\n",
    "print(f\"Validation F1-score: {f1_score:.4f}\")"
   ]
  },
  {
   "cell_type": "code",
   "execution_count": 16,
   "id": "0f15a212-177b-4e4f-b81e-9114da6dc5b8",
   "metadata": {},
   "outputs": [
    {
     "name": "stdout",
     "output_type": "stream",
     "text": [
      "Validation Accuracy: 0.7563\n"
     ]
    }
   ],
   "source": [
    "evaluator = MulticlassClassificationEvaluator(labelCol=\"Label\", predictionCol=\"prediction\", metricName=\"accuracy\")\n",
    "accuracy = evaluator.evaluate(val_predictions)\n",
    "print(f\"Validation Accuracy: {accuracy:.4f}\")"
   ]
  },
  {
   "cell_type": "markdown",
   "id": "6cd2bb01-693a-4375-b37b-0ea2b5383f6b",
   "metadata": {},
   "source": [
    "Testowe"
   ]
  },
  {
   "cell_type": "code",
   "execution_count": 19,
   "id": "e785581c-31a2-469c-8fdc-cf329e5e83cb",
   "metadata": {},
   "outputs": [],
   "source": [
    "data_test_clean = spark.read.parquet(\"data_no_missing_values_test\")"
   ]
  },
  {
   "cell_type": "code",
   "execution_count": 20,
   "id": "61099ff2-97bb-4870-8399-85bdbed9c065",
   "metadata": {},
   "outputs": [],
   "source": [
    "input_cols = model.stages[0].getInputCols()  \n",
    "data_test_clean = data_test_clean.select(input_cols) "
   ]
  },
  {
   "cell_type": "code",
   "execution_count": 21,
   "id": "e367af76-5830-4efc-aec6-f2435b4fca88",
   "metadata": {},
   "outputs": [],
   "source": [
    "test_predictions = model.transform(data_test_clean)"
   ]
  },
  {
   "cell_type": "code",
   "execution_count": 22,
   "id": "26aff70c-bc89-4506-9ecf-39fb7a243eff",
   "metadata": {},
   "outputs": [
    {
     "name": "stdout",
     "output_type": "stream",
     "text": [
      "+--------------------+----------+\n",
      "|            features|prediction|\n",
      "+--------------------+----------+\n",
      "|[1.0,26.0,4.0,244...|       0.0|\n",
      "|[1.0,0.0,4.0,512....|       0.0|\n",
      "|[5.0,23.0,3.0,169...|       0.0|\n",
      "|[4.0,0.0,15.0,1.0...|       0.0|\n",
      "|[0.0,36.0,6.0,244...|       0.0|\n",
      "|[0.0,68.0,1.0,166...|       0.0|\n",
      "|[1.0,0.0,4.0,2447...|       0.0|\n",
      "|[5.0,33.0,2.0,2.0...|       0.0|\n",
      "|[1.0,30.0,4.0,133...|       0.0|\n",
      "|[1.0,6.0,10.0,12....|       1.0|\n",
      "|[1.0,5.0,12.0,96....|       0.0|\n",
      "|[0.0,0.0,4.0,1255...|       0.0|\n",
      "|[0.0,1.0,4.0,1406...|       0.0|\n",
      "|[1.0,69.0,4.0,278...|       0.0|\n",
      "|[0.0,0.0,10.0,291...|       0.0|\n",
      "|[0.0,0.0,8.0,1626...|       0.0|\n",
      "|[1.0,57.0,4.0,719...|       0.0|\n",
      "|[1.0,1.0,4.0,1003...|       0.0|\n",
      "|[1.0,66.0,4.0,278...|       0.0|\n",
      "|[1.0,0.0,21.0,170...|       0.0|\n",
      "|[0.0,87.5,8.0,568...|       0.0|\n",
      "|[1.0,0.0,4.0,1649...|       0.0|\n",
      "|[4.0,2.0,0.0,57.0...|       1.0|\n",
      "|[1.0,20.0,9.0,433...|       0.0|\n",
      "|[1.0,85.0,4.0,278...|       0.0|\n",
      "|[0.0,48.0,1.0,717...|       0.0|\n",
      "|[7.5,87.5,6.0,11....|       1.0|\n",
      "|[1.0,87.5,3.0,435...|       0.0|\n",
      "|[1.0,0.0,4.0,1512...|       0.0|\n",
      "|[1.0,0.0,4.0,3166...|       0.0|\n",
      "|[0.0,1.0,1.0,4465...|       0.0|\n",
      "|[0.0,0.0,4.0,1630...|       0.0|\n",
      "|[1.0,0.0,4.0,7140...|       0.0|\n",
      "|[1.0,19.0,2.0,434...|       0.0|\n",
      "|[1.0,1.0,5.0,79.0...|       0.0|\n",
      "|[0.0,1.0,1.0,2831...|       0.0|\n",
      "|[1.0,1.0,2.0,7405...|       0.0|\n",
      "|[1.0,4.0,1.0,2057...|       0.0|\n",
      "|[2.0,-1.0,8.0,38....|       0.0|\n",
      "|[1.0,9.0,4.0,2447...|       0.0|\n",
      "|[1.0,43.0,0.0,292...|       0.0|\n",
      "|[1.0,87.5,1.0,244...|       0.0|\n",
      "|[1.0,-1.0,4.0,278...|       0.0|\n",
      "|[1.0,1.0,0.0,1287...|       0.0|\n",
      "|[1.0,87.5,1.0,215...|       0.0|\n",
      "|[1.0,14.0,0.0,220...|       0.0|\n",
      "|[0.0,0.0,3.0,1014...|       0.0|\n",
      "|[2.0,0.0,22.0,2.0...|       0.0|\n",
      "|[1.0,87.5,2.0,102...|       0.0|\n",
      "|[3.0,23.0,2.0,506...|       0.0|\n",
      "|[0.0,0.0,17.0,430...|       0.0|\n",
      "|[1.0,0.0,22.0,44....|       0.0|\n",
      "|[1.0,0.0,4.0,253....|       0.0|\n",
      "|[1.0,2.0,1.0,5977...|       0.0|\n",
      "|[0.0,-1.0,4.0,227...|       0.0|\n",
      "|[1.0,37.0,4.0,310...|       0.0|\n",
      "|[3.0,87.5,8.0,142...|       0.0|\n",
      "|[1.0,-1.0,4.0,726...|       0.0|\n",
      "|[1.0,-1.0,4.0,742...|       0.0|\n",
      "|[1.0,0.0,1.0,2447...|       0.0|\n",
      "|[1.0,1.0,4.0,2447...|       0.0|\n",
      "|[1.0,7.0,8.0,1330...|       0.0|\n",
      "|[1.0,1.0,4.0,2447...|       0.0|\n",
      "|[1.0,5.0,5.0,2447...|       0.0|\n",
      "|[1.0,2.0,1.0,2447...|       0.0|\n",
      "|[3.0,34.0,3.0,128...|       1.0|\n",
      "|[1.0,15.0,3.0,735...|       0.0|\n",
      "|[1.0,68.0,15.0,1....|       0.0|\n",
      "|[1.0,25.0,3.0,279...|       0.0|\n",
      "|[1.0,0.0,5.0,1745...|       0.0|\n",
      "|[2.0,8.0,2.0,5.0,...|       0.0|\n",
      "|[1.0,4.0,3.0,509....|       0.0|\n",
      "|[1.0,48.0,2.0,236...|       0.0|\n",
      "|[0.0,1.0,4.0,2721...|       0.0|\n",
      "|[1.0,16.0,4.0,142...|       0.0|\n",
      "|[0.0,6.0,1.0,2447...|       0.0|\n",
      "|[1.0,15.0,2.0,163...|       0.0|\n",
      "|[0.0,2.0,4.0,3277...|       0.0|\n",
      "|[4.0,1.0,18.0,5.0...|       0.0|\n",
      "|[0.0,28.0,17.0,57...|       0.0|\n",
      "|[0.0,5.0,22.0,597...|       0.0|\n",
      "|[0.0,23.0,3.0,244...|       0.0|\n",
      "|[1.0,87.5,4.0,232...|       0.0|\n",
      "|[0.0,3.0,5.0,1604...|       0.0|\n",
      "|[0.0,87.5,22.0,58...|       0.0|\n",
      "|[2.0,87.5,3.0,457...|       0.0|\n",
      "|[0.0,60.0,3.0,141...|       0.0|\n",
      "|[0.0,9.0,1.0,6199...|       0.0|\n",
      "|[1.0,-1.0,4.0,751...|       0.0|\n",
      "|[1.0,3.0,4.0,7758...|       0.0|\n",
      "|[1.0,6.0,1.0,1759...|       0.0|\n",
      "|[0.0,15.0,4.0,435...|       0.0|\n",
      "|[0.0,0.0,4.0,1844...|       0.0|\n",
      "|[7.5,64.0,21.0,12...|       0.0|\n",
      "|[1.0,58.0,4.0,434...|       0.0|\n",
      "|[1.0,2.0,5.0,2447...|       0.0|\n",
      "|[1.0,3.0,22.0,149...|       0.0|\n",
      "|[7.5,87.5,0.0,7.0...|       1.0|\n",
      "|[0.0,2.0,4.0,4674...|       0.0|\n",
      "|[1.0,87.5,11.0,12...|       0.0|\n",
      "+--------------------+----------+\n",
      "only showing top 100 rows\n",
      "\n"
     ]
    }
   ],
   "source": [
    "test_predictions.select(\"features\", \"prediction\").show(100)"
   ]
  },
  {
   "cell_type": "code",
   "execution_count": 23,
   "id": "2fa7e06f-32b5-4d82-af87-b9d76efa8ddf",
   "metadata": {},
   "outputs": [
    {
     "name": "stdout",
     "output_type": "stream",
     "text": [
      "Procent predykcji == 1: 6.73%\n"
     ]
    }
   ],
   "source": [
    "result = test_predictions.agg(\n",
    "    (F.count(F.when(F.col(\"prediction\") == 1, 1)) / F.count(\"*\") * 100).alias(\"percentage_1\")\n",
    ").collect()[0][\"percentage_1\"]\n",
    "\n",
    "print(f\"Procent predykcji == 1: {result:.2f}%\")"
   ]
  },
  {
   "cell_type": "code",
   "execution_count": null,
   "id": "c72d513c-9c8d-43d9-91f4-f26b6d5a9d1f",
   "metadata": {},
   "outputs": [],
   "source": []
  }
 ],
 "metadata": {
  "kernelspec": {
   "display_name": "Python 3 (ipykernel)",
   "language": "python",
   "name": "python3"
  },
  "language_info": {
   "codemirror_mode": {
    "name": "ipython",
    "version": 3
   },
   "file_extension": ".py",
   "mimetype": "text/x-python",
   "name": "python",
   "nbconvert_exporter": "python",
   "pygments_lexer": "ipython3",
   "version": "3.11.6"
  }
 },
 "nbformat": 4,
 "nbformat_minor": 5
}
